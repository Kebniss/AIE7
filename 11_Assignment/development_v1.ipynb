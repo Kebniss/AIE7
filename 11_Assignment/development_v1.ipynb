{
 "cells": [
  {
   "cell_type": "markdown",
   "id": "4a8a8998",
   "metadata": {},
   "source": [
    "# ManualAIze development"
   ]
  },
  {
   "cell_type": "code",
   "execution_count": 60,
   "id": "5eebd3ad",
   "metadata": {},
   "outputs": [],
   "source": [
    "import os\n",
    "import getpass\n",
    "from typing import Any, Callable, List, Optional, TypedDict, Union\n",
    "\n",
    "from langchain.agents import AgentExecutor, create_openai_functions_agent\n",
    "from langchain_core.output_parsers.openai_tools import JsonOutputToolsParser \n",
    "from langchain_core.prompts import ChatPromptTemplate, MessagesPlaceholder\n",
    "from langchain_core.messages import AIMessage, BaseMessage, HumanMessage\n",
    "from langchain_core.runnables import Runnable\n",
    "from langchain_core.tools import BaseTool\n",
    "from langchain_openai import ChatOpenAI\n",
    "\n",
    "from langgraph.graph import END, StateGraph\n",
    "from typing import Annotated, List, Tuple, Union\n",
    "from langchain_core.tools import tool\n",
    "import functools\n",
    "import operator\n",
    "\n",
    "from langchain_core.messages import AIMessage, BaseMessage, HumanMessage\n",
    "from langchain_openai.chat_models import ChatOpenAI\n",
    "import functools\n",
    "\n"
   ]
  },
  {
   "cell_type": "code",
   "execution_count": null,
   "id": "fbfb5377",
   "metadata": {},
   "outputs": [],
   "source": [
    "os.environ[\"OPENAI_API_KEY\"] = getpass.getpass(\"OpenAI API Key:\")"
   ]
  },
  {
   "cell_type": "code",
   "execution_count": 2,
   "id": "fdc07ef0",
   "metadata": {},
   "outputs": [],
   "source": [
    "os.environ[\"COHERE_API_KEY\"] = getpass.getpass(\"Cohere API Key:\")"
   ]
  },
  {
   "cell_type": "code",
   "execution_count": 3,
   "id": "ce1201ed",
   "metadata": {},
   "outputs": [],
   "source": [
    "os.environ[\"TAVILY_API_KEY\"] = getpass.getpass(\"TAVILY_API_KEY\")\n"
   ]
  },
  {
   "cell_type": "code",
   "execution_count": 4,
   "id": "83a50b20",
   "metadata": {},
   "outputs": [],
   "source": [
    "from uuid import uuid4\n",
    "\n",
    "os.environ[\"LANGCHAIN_TRACING_V2\"] = \"true\"\n",
    "os.environ[\"LANGCHAIN_PROJECT\"] = f\"Certification - {uuid4().hex[0:8]}\"\n",
    "os.environ[\"LANGCHAIN_API_KEY\"] = getpass.getpass(\"LangSmith API Key: \")"
   ]
  },
  {
   "cell_type": "markdown",
   "id": "29522a86",
   "metadata": {},
   "source": [
    "## Let's start building the agent\n",
    "\n",
    "This agent main goal is to parse and retrieve information from user manuals uploaded by the user. The first step will always be retrieval potentially augmented by internet searches. The outile of the agentic loop is the following\n",
    "\n",
    "1. User uploads pdfs \n",
    "2. User inputs a question\n",
    "3. Agent cycle starts\n",
    "    - a. retrieve most relevant information from the uploaded pdfs\n",
    "    - b. router agent evaluates if there is enough context\n",
    "        - i. if not, calls tavily search\n",
    "    - c. once it has enough context calls the writer node"
   ]
  },
  {
   "cell_type": "markdown",
   "id": "98633170",
   "metadata": {},
   "source": [
    "### Set up the retrieval node\n",
    "Let's start with parsing, embedding and storing the pdfs using Qdrant"
   ]
  },
  {
   "cell_type": "code",
   "execution_count": 79,
   "id": "916e6d59",
   "metadata": {},
   "outputs": [
    {
     "name": "stdout",
     "output_type": "stream",
     "text": [
      "Found 3 PDF files:\n",
      "  - ./data/2024-odyssey.pdf\n",
      "  - ./data/foonf_2024_manual_US_EN_02_27_2024_WEB_Final.pdf\n",
      "  - ./data/2022-mazda-mazda6.pdf\n",
      "\n",
      "Loading ./data/2024-odyssey.pdf...\n",
      "✓ Loaded 702 pages → 1210 chunks in 33.8s\n",
      "\n",
      "Loading ./data/foonf_2024_manual_US_EN_02_27_2024_WEB_Final.pdf...\n",
      "✓ Loaded 100 pages → 143 chunks in 4.0s\n",
      "\n",
      "Loading ./data/2022-mazda-mazda6.pdf...\n",
      "✓ Loaded 702 pages → 1466 chunks in 12.3s\n",
      "\n",
      "Total documents: 2819\n"
     ]
    }
   ],
   "source": [
    "import glob\n",
    "import time\n",
    "from langchain_community.document_loaders import PyPDFLoader\n",
    "from langchain.text_splitter import RecursiveCharacterTextSplitter\n",
    "\n",
    "# Get all PDF files in the data directory\n",
    "pdf_files = glob.glob(\"./data/*.pdf\")\n",
    "print(f\"Found {len(pdf_files)} PDF files:\")\n",
    "for file in pdf_files:\n",
    "    print(f\"  - {file}\")\n",
    "\n",
    "# Load all PDF files with PyPDF (much faster!)\n",
    "all_documents_pypdf = []\n",
    "text_splitter = RecursiveCharacterTextSplitter(\n",
    "    chunk_size=1000,\n",
    "    chunk_overlap=200\n",
    ")\n",
    "\n",
    "for pdf_file in pdf_files:\n",
    "    try:\n",
    "        print(f\"\\nLoading {pdf_file}...\")\n",
    "        start_time = time.time()\n",
    "        \n",
    "        # PyPDFLoader is MUCH faster than UnstructuredPDFLoader\n",
    "        loader = PyPDFLoader(pdf_file)\n",
    "        pages = loader.load()\n",
    "        \n",
    "        # Split into smaller chunks for better retrieval\n",
    "        documents = text_splitter.split_documents(pages)\n",
    "        \n",
    "        elapsed = time.time() - start_time\n",
    "        all_documents_pypdf.extend(documents)\n",
    "        print(f\"✓ Loaded {len(pages)} pages → {len(documents)} chunks in {elapsed:.1f}s\")\n",
    "        \n",
    "    except Exception as e:\n",
    "        print(f\"✗ Error loading {pdf_file}: {e}\")\n",
    "\n",
    "print(f\"\\nTotal documents: {len(all_documents_pypdf)}\")"
   ]
  },
  {
   "cell_type": "code",
   "execution_count": 80,
   "id": "30219f1a",
   "metadata": {},
   "outputs": [],
   "source": [
    "from langchain_community.vectorstores import Qdrant\n",
    "from langchain_openai import OpenAIEmbeddings\n",
    "\n",
    "embeddings = OpenAIEmbeddings(model=\"text-embedding-3-small\")\n",
    "\n",
    "vectorstore = Qdrant.from_documents(\n",
    "    all_documents_pypdf,\n",
    "    embeddings,\n",
    "    location=\":memory:\",\n",
    "    collection_name=\"Manuals\"\n",
    ")"
   ]
  },
  {
   "cell_type": "markdown",
   "id": "1b4061ae",
   "metadata": {},
   "source": [
    "### Now let's create the retrieval node\n",
    "\n",
    "This is not RAG. I want this node to just fetch the information"
   ]
  },
  {
   "cell_type": "code",
   "execution_count": 81,
   "id": "23d5893f",
   "metadata": {},
   "outputs": [],
   "source": [
    "from langchain.retrievers.contextual_compression import ContextualCompressionRetriever\n",
    "from langchain_cohere import CohereRerank\n",
    "\n",
    "naive_retriever = vectorstore.as_retriever(search_kwargs={\"k\" : 10})\n",
    "\n",
    "compressor = CohereRerank(model=\"rerank-v3.5\")\n",
    "compression_retriever = ContextualCompressionRetriever(\n",
    "    base_compressor=compressor, base_retriever=naive_retriever\n",
    ")"
   ]
  },
  {
   "cell_type": "code",
   "execution_count": 82,
   "id": "618e3969",
   "metadata": {},
   "outputs": [
    {
     "data": {
      "image/png": "[encoded data removed]",
      "text/plain": [
       "<langgraph.graph.state.CompiledStateGraph object at 0x30e3c6250>"
      ]
     },
     "execution_count": 82,
     "metadata": {},
     "output_type": "execute_result"
    }
   ],
   "source": [
    "from langgraph.graph import START, StateGraph\n",
    "from typing_extensions import TypedDict\n",
    "from langchain_core.documents import Document\n",
    "from langchain_core.output_parsers import StrOutputParser\n",
    "\n",
    "class RetrievalState(TypedDict):\n",
    "    messages: Annotated[List[BaseMessage], operator.add]\n",
    "    team_members: List[str]\n",
    "    next: str\n",
    "\n",
    "def retrieve(state: RetrievalState) -> RetrievalState:\n",
    "    retrieved_docs = compression_retriever.invoke(state[\"messages\"][-1].content)  # Get question from last message\n",
    "    \n",
    "    # Convert Documents to messages\n",
    "    context_message = f\"Retrieved context from documents:\\n\"\n",
    "    for i, doc in enumerate(retrieved_docs):\n",
    "        context_message += f\"\\n--- Document {i+1} ---\\n{doc.page_content}\\n\"\n",
    "    \n",
    "    return {\n",
    "        \"messages\": [\n",
    "            HumanMessage(content=\"Retrieval agent responding:\"),\n",
    "            AIMessage(content=context_message, name=\"Retrieval\")\n",
    "        ]\n",
    "    }\n",
    "\n",
    "graph_builder = StateGraph(RetrievalState)\n",
    "graph_builder = graph_builder.add_sequence([retrieve])\n",
    "graph_builder.add_edge(START, \"retrieve\")\n",
    "retrieval_graph = graph_builder.compile()\n",
    "\n",
    "retrieval_graph"
   ]
  },
  {
   "cell_type": "code",
   "execution_count": 83,
   "id": "7b3b00b1",
   "metadata": {},
   "outputs": [
    {
     "data": {
      "text/plain": [
       "{'messages': [HumanMessage(content='What are the front facing height and weight limits for the car seat?', additional_kwargs={}, response_metadata={}),\n",
       "  HumanMessage(content='Retrieval agent responding:', additional_kwargs={}, response_metadata={}),\n",
       "  AIMessage(content='Retrieved context from documents:\\n\\n--- Document 1 ---\\n15\\n  When Using This Car Seat \\nin Forward-Facing Mode\\nP Child’s weight is between 22 and 65 lb \\n(10 and 29.5 kg).\\nP Child’s height is between 30 and 49 in. \\n(76 and 124 cm).\\nP Child is at least 1 year of age.\\nP Car seat is securely installed in a rear \\nvehicle seating position using either the \\nrigid LATCH Connectors and the Top \\nTether; the vehicle belt and Top Tether; or \\nthe rigid LATCH Connectors, the vehicle \\nbelt, and the Top Tether.\\nNOTE: If child weighs more than 35 lb \\n(15.9 kg), this car seat must be installed \\neither with the vehicle belt and the Top \\nTether or with the rigid LATCH lower \\nconnectors, the vehicle belt, and the \\nTop Tether. \\nP Car Seat is properly assembled with  \\nthe headrest properly secured. The  \\nRear-Facing Base and Anti-Rebound  \\nBar must be removed when using seat \\nForward-Facing.\\n\\n--- Document 2 ---\\non product labels and in this\\nmanual and in your vehicle\\nowner’s manual before installing\\nor using this car seat.\\n• Failure to properly install or use\\nthis car seat or follow these\\nwarnings and those on this car\\nseat’s labels can result in serious\\ninjury or death to the child\\nin a sharp turn, sudden stop or\\ncrash.\\nC01-0602-G1-US\\nFoonf Instruction Manual\\nThis car seat is designed for use either Rear-Facing or Forward-Facing by children who meet\\nall of the following requirements:\\nHEIGHT WEIGHT AGE\\n25 – 43 in.\\n64 – 110 cm\\n14–5 0l b\\n6.4 – 22.7 kg\\nAble to sit\\nupright alone\\nHEIGHT WEIGHT AGE\\n30 – 49 in.\\n76–1 24 cm\\n22 – 65 lb\\n10–2 9.5 kg\\n2+ years\\nrecommended\\n(1 year min.)\\nFebruary 2024\\nFO24USG1\\n39\\n38\\n36\\n\\n--- Document 3 ---\\nWARNING\\n• Read and understand all \\ninformation and instructions \\non product labels and in this \\nmanual and in your vehicle \\nowner’s manual before installing \\nor using this car seat.\\n• Failure to properly install or \\nuse this car seat or follow these \\nwarnings and those on this car \\nseat’s labels can result in serious \\ninjury or death to the child \\nin a sharp turn, sudden stop \\nor crash.\\nC01-0602-G1-US\\nFoonf Instruction Manual\\nThis car seat is designed for use either Rear-Facing or Forward-Facing by children who meet \\nall of the following requirements:\\nHEIGHT WEIGHT AGE\\n25 – 43 in.\\n64 – 110 cm\\n14 – 50 lb\\n6.4 – 22.7 kg\\nAble to sit \\nupright alone\\nHEIGHT WEIGHT AGE\\n30 – 49 in.\\n76 – 124 cm\\n22 – 65 lb\\n10 – 29.5 kg\\n2+ years \\nrecommended  \\n(1 year min.)\\nFebruary 2024\\nFO24USG1FO24USG1\\n', additional_kwargs={}, response_metadata={}, name='Retrieval')],\n",
       " 'team_members': ['Search', 'Writer'],\n",
       " 'next': ''}"
      ]
     },
     "execution_count": 83,
     "metadata": {},
     "output_type": "execute_result"
    }
   ],
   "source": [
    "def retrieval_enter_chain(question: str):\n",
    "    return {\n",
    "        \"messages\": [HumanMessage(content=question[\"question\"])],\n",
    "        \"team_members\": [\"Search\", \"Writer\"],\n",
    "        \"next\": \"\"\n",
    "    }\n",
    "\n",
    "full_test_chain = retrieval_enter_chain | retrieval_graph\n",
    "\n",
    "full_test_chain.invoke({\"question\" : \"What are the front facing height and weight limits for the car seat?\"})"
   ]
  },
  {
   "cell_type": "markdown",
   "id": "2f109885",
   "metadata": {},
   "source": [
    "### Helper functions\n",
    "Now I am going to create helper functions to help me quickly build the nodes, the graph and the connections between them.We will have our helper accepts the following parameters:\n",
    "\n",
    "\n",
    "- llm: the llm that will power this agent node\n",
    "- tools: the list of tools available to the llm\n",
    "- system_prompt: the system prompt to attach to the llm to ground its generation"
   ]
  },
  {
   "cell_type": "code",
   "execution_count": 84,
   "id": "9cd0e4a1",
   "metadata": {},
   "outputs": [],
   "source": [
    "def agent_node(state, agent, name):\n",
    "    result = agent.invoke(state)\n",
    "    \n",
    "    # Extract the actual output text from the agent result\n",
    "    if isinstance(result, dict):\n",
    "        output_text = result.get('output', str(result))\n",
    "    else:\n",
    "        output_text = str(result)\n",
    "    \n",
    "    # Return two messages: one identifying the agent, one with its response\n",
    "    return {\n",
    "        \"messages\": [\n",
    "            HumanMessage(content=f\"{name} agent responding:\"),\n",
    "            AIMessage(content=output_text, name=name)\n",
    "        ]\n",
    "    }"
   ]
  },
  {
   "cell_type": "code",
   "execution_count": 85,
   "id": "d295adb8",
   "metadata": {},
   "outputs": [],
   "source": [
    "def create_agent(\n",
    "    llm: ChatOpenAI,\n",
    "    tools: list,\n",
    "    system_prompt: str,\n",
    ") -> str:\n",
    "    \"\"\"Create a function-calling agent and add it to the graph.\"\"\"\n",
    "    system_prompt += (\"\\nWork autonomously according to your specialty, using the tools available to you.\"\n",
    "    \" Do not ask for clarification.\"\n",
    "    \" Your other team members (and other teams) will collaborate with you with their own specialties.\"\n",
    "    \" You are chosen for a reason!\")\n",
    "    prompt = ChatPromptTemplate.from_messages(\n",
    "        [\n",
    "            (\n",
    "                \"system\",\n",
    "                system_prompt,\n",
    "            ),\n",
    "            MessagesPlaceholder(variable_name=\"messages\"),\n",
    "            MessagesPlaceholder(variable_name=\"agent_scratchpad\"),\n",
    "        ]\n",
    "    )\n",
    "    agent = create_openai_functions_agent(llm, tools, prompt)\n",
    "    executor = AgentExecutor(agent=agent, tools=tools)\n",
    "    return executor"
   ]
  },
  {
   "cell_type": "code",
   "execution_count": 86,
   "id": "248ff377",
   "metadata": {},
   "outputs": [],
   "source": [
    "def create_router(llm: ChatOpenAI, system_prompt, members) -> str:\n",
    "    \"\"\"An LLM-based router.\"\"\"\n",
    "    options = [\"FINISH\"] + members\n",
    "    \n",
    "    tool_def = {\n",
    "        \"type\": \"function\",\n",
    "        \"function\": {\n",
    "            \"name\": \"route\",\n",
    "            \"description\": \"Select the next role.\",\n",
    "            \"parameters\": {\n",
    "                \"type\": \"object\",\n",
    "                \"properties\": {\n",
    "                    \"next\": {\n",
    "                        \"type\": \"string\",\n",
    "                        \"enum\": options,\n",
    "                    },\n",
    "                },\n",
    "                \"required\": [\"next\"],\n",
    "            },\n",
    "        }\n",
    "    }\n",
    "    prompt = ChatPromptTemplate.from_messages(\n",
    "        [\n",
    "            (\"system\", system_prompt),\n",
    "            MessagesPlaceholder(variable_name=\"messages\"),\n",
    "            (\n",
    "                \"system\",\n",
    "                \"Given the conversation above, who should act next?\"\n",
    "                \" Or should we FINISH? Select one of: {options}\",\n",
    "            ),\n",
    "        ]\n",
    "    ).partial(options=str(options), team_members=\", \".join(members))\n",
    "    \n",
    "    \n",
    "    return (\n",
    "        prompt\n",
    "        | llm.bind_tools([tool_def], tool_choice={\"type\": \"function\", \"function\": {\"name\": \"route\"}})\n",
    "        | JsonOutputToolsParser()\n",
    "    )"
   ]
  },
  {
   "cell_type": "markdown",
   "id": "a2833045",
   "metadata": {},
   "source": [
    "### Create the tools\n",
    "For this application we need only tavily.\n",
    "\n",
    "Tavily search for which we can just pull the implemented API from the library. \n",
    "\n",
    "If we were to create a custom tool we would just need to define  a function that calls the node and add the tool decorator. There is an example below, however we are not going to use it"
   ]
  },
  {
   "cell_type": "code",
   "execution_count": 87,
   "id": "0c3445ba",
   "metadata": {},
   "outputs": [],
   "source": [
    "from langchain_community.tools.tavily_search import TavilySearchResults\n",
    "\n",
    "tavily_tool = TavilySearchResults(max_results=5)\n",
    "\n",
    "tool_belt = [\n",
    "    tavily_tool,\n",
    "]"
   ]
  },
  {
   "cell_type": "code",
   "execution_count": 88,
   "id": "617ce90f",
   "metadata": {},
   "outputs": [],
   "source": [
    "@tool\n",
    "def search_internet(query: Annotated[str, \"Query to search the internet for\"]):\n",
    "    \"\"\"Search the internet for additional information\"\"\"\n",
    "    # Use your existing tavily_tool\n",
    "    results = tavily_tool.invoke(query)\n",
    "    \n",
    "    # Convert results to Document format\n",
    "    from langchain_core.documents import Document\n",
    "    docs = []\n",
    "    for result in results:\n",
    "        content = f\"Title: {result.get('title', '')}\\nContent: {result.get('content', '')}\\nURL: {result.get('url', '')}\"\n",
    "        docs.append(Document(page_content=content, metadata={\"source\": \"internet_search\", \"url\": result.get('url', '')}))\n",
    "    \n",
    "    return docs"
   ]
  },
  {
   "cell_type": "markdown",
   "id": "61841078",
   "metadata": {},
   "source": [
    "### Let's define the state functions\n",
    "\n",
    "First let's define what we want to keep track of at every step of the execution.\n",
    "\n",
    "- messages: The messages we've passed so far\n",
    "- team_members: which team members we have access to\n",
    "- next: what team member is up next"
   ]
  },
  {
   "cell_type": "markdown",
   "id": "4b62698b",
   "metadata": {},
   "source": [
    "### Now it is time to define the orchestrator node, the router in this case\n",
    "\n",
    "The router will receive the context from the retrieval and then decide whether it should call tavily or pass the context directly to the writer"
   ]
  },
  {
   "cell_type": "code",
   "execution_count": 89,
   "id": "9c7d9007",
   "metadata": {},
   "outputs": [],
   "source": [
    "from langchain_openai import ChatOpenAI\n",
    "\n",
    "llm = ChatOpenAI(model=\"gpt-4o-mini\", temperature=0)"
   ]
  },
  {
   "cell_type": "markdown",
   "id": "143a747f",
   "metadata": {},
   "source": [
    "### It is finally time to define the agents\n",
    "As a recap, we need:\n",
    "- a retrieval node, which we already have\n",
    "- a router/orchestrator agent that can either call the search or writer agent\n",
    "- a search agent\n",
    "- a writer agent"
   ]
  },
  {
   "cell_type": "code",
   "execution_count": 90,
   "id": "2296db25",
   "metadata": {},
   "outputs": [],
   "source": [
    "\n",
    "\n",
    "search_agent = create_agent(\n",
    "    llm, \n",
    "    [search_internet], \n",
    "    \"You are a research assistant who can search for details to asnwer the user query.\"\n",
    "    )\n",
    "\n",
    "# search_node = functools.partial(agent_node, agent=search_agent, name=\"Search\")\n",
    "\n",
    "def search_agent_node(state, agent, name):\n",
    "    result = agent.invoke(state)\n",
    "    \n",
    "    # Extract the search results (already Documents from your tool)\n",
    "    if isinstance(result, dict):\n",
    "        output_text = result.get('output', str(result))\n",
    "        # If output contains Documents, format them\n",
    "        if hasattr(result.get('output'), '__iter__') and all(hasattr(item, 'page_content') for item in result.get('output')):\n",
    "            search_message = f\"Internet search results:\\n\"\n",
    "            for i, doc in enumerate(result.get('output')):\n",
    "                search_message += f\"\\n--- Result {i+1} ---\\n{doc.page_content}\\n\"\n",
    "        else:\n",
    "            search_message = output_text\n",
    "    else:\n",
    "        search_message = str(result)\n",
    "    \n",
    "    return {\n",
    "        \"messages\": [\n",
    "            HumanMessage(content=f\"{name} agent responding:\"),\n",
    "            AIMessage(content=search_message, name=name)\n",
    "        ]\n",
    "    }\n",
    "\n",
    "search_node = functools.partial(search_agent_node, agent=search_agent, name=\"Search\")"
   ]
  },
  {
   "cell_type": "code",
   "execution_count": 98,
   "id": "106f6b2a",
   "metadata": {},
   "outputs": [],
   "source": [
    "from langchain_core.output_parsers import StrOutputParser\n",
    "from langchain_core.prompts import ChatPromptTemplate\n",
    "\n",
    "# Create a specific prompt and chain for the writer\n",
    "# This is a much simpler setup than a full agent\n",
    "writer_prompt = ChatPromptTemplate.from_messages(\n",
    "    [\n",
    "        (\"system\", \"You are a writer. Use the provided context to answer the user's question clearly and accurately.\"),\n",
    "        (\"user\", \"Question: {question}\\n\\nContext:\\n{context}\")\n",
    "    ]\n",
    ")\n",
    "writer_chain = writer_prompt | llm | StrOutputParser()\n",
    "\n",
    "def writer_node(state):\n",
    "    \"\"\"\n",
    "    The writer node. It takes the state, combines the context,\n",
    "    and generates the final answer.\n",
    "    \"\"\"\n",
    "    # Combine all context from messages\n",
    "    combined_context = \"\"\n",
    "    for msg in state[\"messages\"]:\n",
    "        if isinstance(msg, AIMessage) and msg.name in [\"Retrieval\", \"Search\"]:\n",
    "            combined_context += f\"\\n{msg.content}\\n\"\n",
    "            \n",
    "    # The first message is always the user's original question\n",
    "    question = state[\"messages\"][0].content\n",
    "    \n",
    "    # Invoke the writer chain\n",
    "    result = writer_chain.invoke({\"question\": question, \"context\": combined_context})\n",
    "    \n",
    "    return {\n",
    "        \"messages\": [\n",
    "            HumanMessage(content=\"Writer agent responding:\"),\n",
    "            AIMessage(content=result, name=\"Writer\")\n",
    "        ]\n",
    "    }"
   ]
  },
  {
   "cell_type": "code",
   "execution_count": 99,
   "id": "c1729ab5",
   "metadata": {},
   "outputs": [],
   "source": [
    "router_agent = create_router(\n",
    "    llm,\n",
    "    (\"You are a supervisor tasked with managing a conversation between the\"\n",
    "    \" following workers:  Search, Writer. Given the following user request,\"\n",
    "    \" determine if the information is enough to answer the user query. If it is,\"\n",
    "    \" pass the context to Writer. If it is not, pass the query to Search.\"\n",
    "    \" You should never ask Search to do anything beyond research.\"\n",
    "    \" You should never ask Writer to do anything beyond writing the answer given\"\n",
    "    \" the context.\"),\n",
    "    [\"Search\", \"Writer\"],\n",
    ")"
   ]
  },
  {
   "cell_type": "code",
   "execution_count": 100,
   "id": "69e4b8c7",
   "metadata": {},
   "outputs": [],
   "source": [
    "def router_node(state):\n",
    "    # Extract messages from the state\n",
    "    messages = state[\"messages\"]\n",
    "    \n",
    "    # Call the router chain with proper input\n",
    "    result = router_agent.invoke({\"messages\": messages})\n",
    "    \n",
    "    # The new parser returns a list of tool calls. We'll take the first one.\n",
    "    # The result looks like: [{'type': 'route', 'args': {'next': 'Writer'}}]\n",
    "    # So we access the arguments of the first tool call.\n",
    "    return {\n",
    "        **state, \n",
    "        \"next\": result[0][\"args\"][\"next\"]\n",
    "    }\n",
    "\n",
    "# def router_node(state):\n",
    "#     # Extract messages from the state\n",
    "#     messages = state[\"messages\"]\n",
    "    \n",
    "#     # Temporarily create a chain without the parser to see the raw output\n",
    "#     # router_agent is a RunnableSequence, so we can access its parts\n",
    "#     unparsed_router = router_agent.first | router_agent.middle[0]\n",
    "    \n",
    "#     # Let's see what the model is thinking\n",
    "#     print(\"--- Router Input Messages ---\")\n",
    "#     for msg in messages:\n",
    "#         print(msg)\n",
    "    \n",
    "#     raw_result = unparsed_router.invoke({\"messages\": messages})\n",
    "    \n",
    "#     print(\"\\n--- Raw Router Output ---\")\n",
    "#     print(raw_result)\n",
    "#     print(\"---------------------------\\n\")\n",
    "\n",
    "#     # Call the router chain with proper input\n",
    "#     result = router_agent.invoke({\"messages\": messages})\n",
    "    \n",
    "#     # Extract the routing decision and update state\n",
    "#     return {\n",
    "#         **state, \n",
    "#         \"next\": result[\"next\"]\n",
    "#     }"
   ]
  },
  {
   "cell_type": "markdown",
   "id": "b66af164",
   "metadata": {},
   "source": [
    "### Let's assemble the graph!"
   ]
  },
  {
   "cell_type": "code",
   "execution_count": 101,
   "id": "57581a87",
   "metadata": {},
   "outputs": [],
   "source": [
    "graph = StateGraph(RetrievalState)\n",
    "\n",
    "# Add nodes\n",
    "graph.add_node(\"Retrieve\", retrieve)\n",
    "graph.add_node(\"Router\", router_node)\n",
    "graph.add_node(\"Search\", search_node)\n",
    "graph.add_node(\"Writer\", writer_node)\n",
    "\n",
    "# Set entry point\n",
    "graph.set_entry_point(\"Retrieve\")\n",
    "\n",
    "# Add edges\n",
    "graph.add_edge(\"Retrieve\", \"Router\")\n",
    "graph.add_conditional_edges(\n",
    "    \"Router\",\n",
    "    lambda x: x[\"next\"],\n",
    "    {\n",
    "        \"Search\": \"Search\",\n",
    "        \"Writer\": \"Writer\",\n",
    "    }\n",
    ")\n",
    "graph.add_edge(\"Search\", \"Writer\")\n",
    "graph.add_edge(\"Writer\", END)\n",
    "\n",
    "# Compile\n",
    "compiled_graph = graph.compile()"
   ]
  },
  {
   "cell_type": "code",
   "execution_count": 102,
   "id": "a4cfca06",
   "metadata": {},
   "outputs": [
    {
     "data": {
      "image/png": "[encoded data removed]",
      "text/plain": [
       "<IPython.core.display.Image object>"
      ]
     },
     "metadata": {},
     "output_type": "display_data"
    }
   ],
   "source": [
    "import nest_asyncio\n",
    "nest_asyncio.apply()\n",
    "\n",
    "from IPython.display import Image, display\n",
    "from langchain_core.runnables.graph import CurveStyle, MermaidDrawMethod, NodeStyles\n",
    "\n",
    "display(\n",
    "    Image(\n",
    "        compiled_graph.get_graph().draw_mermaid_png(\n",
    "            curve_style=CurveStyle.LINEAR,\n",
    "            node_colors=NodeStyles(first=\"#ffdfba\", last=\"#baffc9\", default=\"#fad7de\"),\n",
    "            wrap_label_n_words=9,\n",
    "            output_file_path=None,\n",
    "            draw_method=MermaidDrawMethod.PYPPETEER,\n",
    "            background_color=\"white\",\n",
    "            padding=10,\n",
    "        )\n",
    "    )\n",
    ")"
   ]
  },
  {
   "cell_type": "code",
   "execution_count": 103,
   "id": "13a5d7e2",
   "metadata": {},
   "outputs": [],
   "source": [
    "def enter_chain(message: str):\n",
    "    results = {\n",
    "        \"messages\": [HumanMessage(content=message)],\n",
    "        \"team_members\": [\"Search\", \"Writer\"], \n",
    "        \"next\": \"\",                           \n",
    "    }\n",
    "    return results\n",
    "\n",
    "research_chain = enter_chain | compiled_graph"
   ]
  },
  {
   "cell_type": "code",
   "execution_count": 104,
   "id": "ba96102d",
   "metadata": {},
   "outputs": [
    {
     "name": "stdout",
     "output_type": "stream",
     "text": [
      "{'Retrieve': {'messages': [HumanMessage(content='Retrieval agent responding:', additional_kwargs={}, response_metadata={}), AIMessage(content='Retrieved context from documents:\\n\\n--- Document 1 ---\\n15\\n  When Using This Car Seat \\nin Forward-Facing Mode\\nP Child’s weight is between 22 and 65 lb \\n(10 and 29.5 kg).\\nP Child’s height is between 30 and 49 in. \\n(76 and 124 cm).\\nP Child is at least 1 year of age.\\nP Car seat is securely installed in a rear \\nvehicle seating position using either the \\nrigid LATCH Connectors and the Top \\nTether; the vehicle belt and Top Tether; or \\nthe rigid LATCH Connectors, the vehicle \\nbelt, and the Top Tether.\\nNOTE: If child weighs more than 35 lb \\n(15.9 kg), this car seat must be installed \\neither with the vehicle belt and the Top \\nTether or with the rigid LATCH lower \\nconnectors, the vehicle belt, and the \\nTop Tether. \\nP Car Seat is properly assembled with  \\nthe headrest properly secured. The  \\nRear-Facing Base and Anti-Rebound  \\nBar must be removed when using seat \\nForward-Facing.\\n\\n--- Document 2 ---\\nWARNING\\n• Read and understand all \\ninformation and instructions \\non product labels and in this \\nmanual and in your vehicle \\nowner’s manual before installing \\nor using this car seat.\\n• Failure to properly install or \\nuse this car seat or follow these \\nwarnings and those on this car \\nseat’s labels can result in serious \\ninjury or death to the child \\nin a sharp turn, sudden stop \\nor crash.\\nC01-0602-G1-US\\nFoonf Instruction Manual\\nThis car seat is designed for use either Rear-Facing or Forward-Facing by children who meet \\nall of the following requirements:\\nHEIGHT WEIGHT AGE\\n25 – 43 in.\\n64 – 110 cm\\n14 – 50 lb\\n6.4 – 22.7 kg\\nAble to sit \\nupright alone\\nHEIGHT WEIGHT AGE\\n30 – 49 in.\\n76 – 124 cm\\n22 – 65 lb\\n10 – 29.5 kg\\n2+ years \\nrecommended  \\n(1 year min.)\\nFebruary 2024\\nFO24USG1FO24USG1\\n\\n--- Document 3 ---\\non product labels and in this\\nmanual and in your vehicle\\nowner’s manual before installing\\nor using this car seat.\\n• Failure to properly install or use\\nthis car seat or follow these\\nwarnings and those on this car\\nseat’s labels can result in serious\\ninjury or death to the child\\nin a sharp turn, sudden stop or\\ncrash.\\nC01-0602-G1-US\\nFoonf Instruction Manual\\nThis car seat is designed for use either Rear-Facing or Forward-Facing by children who meet\\nall of the following requirements:\\nHEIGHT WEIGHT AGE\\n25 – 43 in.\\n64 – 110 cm\\n14–5 0l b\\n6.4 – 22.7 kg\\nAble to sit\\nupright alone\\nHEIGHT WEIGHT AGE\\n30 – 49 in.\\n76–1 24 cm\\n22 – 65 lb\\n10–2 9.5 kg\\n2+ years\\nrecommended\\n(1 year min.)\\nFebruary 2024\\nFO24USG1\\n39\\n38\\n36\\n', additional_kwargs={}, response_metadata={}, name='Retrieval')]}}\n",
      "---\n",
      "{'Router': {'messages': [HumanMessage(content='What is the weight and height limits for the car seat when front facing?', additional_kwargs={}, response_metadata={}), HumanMessage(content='Retrieval agent responding:', additional_kwargs={}, response_metadata={}), AIMessage(content='Retrieved context from documents:\\n\\n--- Document 1 ---\\n15\\n  When Using This Car Seat \\nin Forward-Facing Mode\\nP Child’s weight is between 22 and 65 lb \\n(10 and 29.5 kg).\\nP Child’s height is between 30 and 49 in. \\n(76 and 124 cm).\\nP Child is at least 1 year of age.\\nP Car seat is securely installed in a rear \\nvehicle seating position using either the \\nrigid LATCH Connectors and the Top \\nTether; the vehicle belt and Top Tether; or \\nthe rigid LATCH Connectors, the vehicle \\nbelt, and the Top Tether.\\nNOTE: If child weighs more than 35 lb \\n(15.9 kg), this car seat must be installed \\neither with the vehicle belt and the Top \\nTether or with the rigid LATCH lower \\nconnectors, the vehicle belt, and the \\nTop Tether. \\nP Car Seat is properly assembled with  \\nthe headrest properly secured. The  \\nRear-Facing Base and Anti-Rebound  \\nBar must be removed when using seat \\nForward-Facing.\\n\\n--- Document 2 ---\\nWARNING\\n• Read and understand all \\ninformation and instructions \\non product labels and in this \\nmanual and in your vehicle \\nowner’s manual before installing \\nor using this car seat.\\n• Failure to properly install or \\nuse this car seat or follow these \\nwarnings and those on this car \\nseat’s labels can result in serious \\ninjury or death to the child \\nin a sharp turn, sudden stop \\nor crash.\\nC01-0602-G1-US\\nFoonf Instruction Manual\\nThis car seat is designed for use either Rear-Facing or Forward-Facing by children who meet \\nall of the following requirements:\\nHEIGHT WEIGHT AGE\\n25 – 43 in.\\n64 – 110 cm\\n14 – 50 lb\\n6.4 – 22.7 kg\\nAble to sit \\nupright alone\\nHEIGHT WEIGHT AGE\\n30 – 49 in.\\n76 – 124 cm\\n22 – 65 lb\\n10 – 29.5 kg\\n2+ years \\nrecommended  \\n(1 year min.)\\nFebruary 2024\\nFO24USG1FO24USG1\\n\\n--- Document 3 ---\\non product labels and in this\\nmanual and in your vehicle\\nowner’s manual before installing\\nor using this car seat.\\n• Failure to properly install or use\\nthis car seat or follow these\\nwarnings and those on this car\\nseat’s labels can result in serious\\ninjury or death to the child\\nin a sharp turn, sudden stop or\\ncrash.\\nC01-0602-G1-US\\nFoonf Instruction Manual\\nThis car seat is designed for use either Rear-Facing or Forward-Facing by children who meet\\nall of the following requirements:\\nHEIGHT WEIGHT AGE\\n25 – 43 in.\\n64 – 110 cm\\n14–5 0l b\\n6.4 – 22.7 kg\\nAble to sit\\nupright alone\\nHEIGHT WEIGHT AGE\\n30 – 49 in.\\n76–1 24 cm\\n22 – 65 lb\\n10–2 9.5 kg\\n2+ years\\nrecommended\\n(1 year min.)\\nFebruary 2024\\nFO24USG1\\n39\\n38\\n36\\n', additional_kwargs={}, response_metadata={}, name='Retrieval')], 'team_members': ['Search', 'Writer'], 'next': 'Writer'}}\n",
      "---\n",
      "{'Writer': {'messages': [HumanMessage(content='Writer agent responding:', additional_kwargs={}, response_metadata={}), AIMessage(content='When using the car seat in forward-facing mode, the weight limit is between 22 and 65 pounds (10 to 29.5 kg), and the height limit is between 30 and 49 inches (76 to 124 cm). Additionally, the child must be at least 1 year of age, with a recommendation of 2 years or older.', additional_kwargs={}, response_metadata={}, name='Writer')]}}\n",
      "---\n"
     ]
    }
   ],
   "source": [
    "for s in research_chain.stream(\n",
    "    \"What is the weight and height limits for the car seat when front facing?\", {\"recursion_limit\": 100}\n",
    "):\n",
    "    if \"__end__\" not in s:\n",
    "        print(s)\n",
    "        print(\"---\")"
   ]
  },
  {
   "cell_type": "markdown",
   "id": "eab6616b",
   "metadata": {},
   "source": [
    "### IT WORKS!"
   ]
  },
  {
   "cell_type": "code",
   "execution_count": null,
   "id": "5a9adb69",
   "metadata": {},
   "outputs": [],
   "source": []
  },
  {
   "cell_type": "code",
   "execution_count": null,
   "id": "68dd7958",
   "metadata": {},
   "outputs": [],
   "source": []
  },
  {
   "cell_type": "code",
   "execution_count": null,
   "id": "388e613d",
   "metadata": {},
   "outputs": [],
   "source": []
  },
  {
   "cell_type": "code",
   "execution_count": null,
   "id": "f6683c40",
   "metadata": {},
   "outputs": [],
   "source": []
  }
 ],
 "metadata": {
  "kernelspec": {
   "display_name": "ManualAIze (uv)",
   "language": "python",
   "name": "manualaize"
  },
  "language_info": {
   "codemirror_mode": {
    "name": "ipython",
    "version": 3
   },
   "file_extension": ".py",
   "mimetype": "text/x-python",
   "name": "python",
   "nbconvert_exporter": "python",
   "pygments_lexer": "ipython3",
   "version": "3.13.5"
  }
 },
 "nbformat": 4,
 "nbformat_minor": 5
}

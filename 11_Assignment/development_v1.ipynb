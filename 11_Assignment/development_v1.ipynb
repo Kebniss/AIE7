{
 "cells": [
  {
   "cell_type": "markdown",
   "id": "4a8a8998",
   "metadata": {},
   "source": [
    "# ManualAIze development"
   ]
  },
  {
   "cell_type": "code",
   "execution_count": 1,
   "id": "5eebd3ad",
   "metadata": {},
   "outputs": [],
   "source": [
    "import os\n",
    "import getpass\n",
    "from typing import Any, Callable, List, Optional, TypedDict, Union\n",
    "\n",
    "from langchain.agents import AgentExecutor, create_openai_functions_agent\n",
    "from langchain_core.output_parsers.openai_tools import JsonOutputToolsParser \n",
    "from langchain_core.prompts import ChatPromptTemplate, MessagesPlaceholder\n",
    "from langchain_core.messages import AIMessage, BaseMessage, HumanMessage\n",
    "from langchain_core.runnables import Runnable\n",
    "from langchain_core.tools import BaseTool\n",
    "from langchain_openai import ChatOpenAI\n",
    "\n",
    "from langgraph.graph import END, StateGraph\n",
    "from typing import Annotated, List, Tuple, Union\n",
    "from langchain_core.tools import tool\n",
    "import functools\n",
    "import operator\n",
    "\n",
    "from langchain_core.messages import AIMessage, BaseMessage, HumanMessage\n",
    "from langchain_openai.chat_models import ChatOpenAI\n",
    "import functools\n",
    "\n"
   ]
  },
  {
   "cell_type": "code",
   "execution_count": 2,
   "id": "fbfb5377",
   "metadata": {},
   "outputs": [],
   "source": [
    "os.environ[\"OPENAI_API_KEY\"] = getpass.getpass(\"OpenAI API Key:\")"
   ]
  },
  {
   "cell_type": "code",
   "execution_count": 3,
   "id": "fdc07ef0",
   "metadata": {},
   "outputs": [],
   "source": [
    "os.environ[\"COHERE_API_KEY\"] = getpass.getpass(\"Cohere API Key:\")"
   ]
  },
  {
   "cell_type": "code",
   "execution_count": 4,
   "id": "ce1201ed",
   "metadata": {},
   "outputs": [],
   "source": [
    "os.environ[\"TAVILY_API_KEY\"] = getpass.getpass(\"TAVILY_API_KEY\")\n"
   ]
  },
  {
   "cell_type": "code",
   "execution_count": 5,
   "id": "83a50b20",
   "metadata": {},
   "outputs": [],
   "source": [
    "from uuid import uuid4\n",
    "\n",
    "os.environ[\"LANGCHAIN_TRACING_V2\"] = \"true\"\n",
    "os.environ[\"LANGCHAIN_PROJECT\"] = f\"Certification - {uuid4().hex[0:8]}\"\n",
    "os.environ[\"LANGCHAIN_API_KEY\"] = getpass.getpass(\"LangSmith API Key: \")"
   ]
  },
  {
   "cell_type": "markdown",
   "id": "29522a86",
   "metadata": {},
   "source": [
    "## Let's start building the agent\n",
    "\n",
    "This agent main goal is to parse and retrieve information from user manuals uploaded by the user. The first step will always be retrieval potentially augmented by internet searches. The outile of the agentic loop is the following\n",
    "\n",
    "1. User uploads pdfs \n",
    "2. User inputs a question\n",
    "3. Agent cycle starts\n",
    "    - a. retrieve most relevant information from the uploaded pdfs\n",
    "    - b. router agent evaluates if there is enough context\n",
    "        - i. if not, calls tavily search\n",
    "    - c. once it has enough context calls the writer node"
   ]
  },
  {
   "cell_type": "markdown",
   "id": "98633170",
   "metadata": {},
   "source": [
    "### Set up the retrieval node\n",
    "Let's start with parsing, embedding and storing the pdfs using Qdrant"
   ]
  },
  {
   "cell_type": "code",
   "execution_count": 6,
   "id": "916e6d59",
   "metadata": {},
   "outputs": [
    {
     "name": "stdout",
     "output_type": "stream",
     "text": [
      "Found 3 PDF files:\n",
      "  - ./data/2024-odyssey.pdf\n",
      "  - ./data/foonf_2024_manual_US_EN_02_27_2024_WEB_Final.pdf\n",
      "  - ./data/2022-mazda-mazda6.pdf\n",
      "\n",
      "Loading ./data/2024-odyssey.pdf...\n",
      "✓ Loaded 702 pages → 1210 chunks in 24.4s\n",
      "\n",
      "Loading ./data/foonf_2024_manual_US_EN_02_27_2024_WEB_Final.pdf...\n",
      "✓ Loaded 100 pages → 143 chunks in 3.3s\n",
      "\n",
      "Loading ./data/2022-mazda-mazda6.pdf...\n",
      "✓ Loaded 702 pages → 1466 chunks in 10.9s\n",
      "\n",
      "Total documents: 2819\n"
     ]
    }
   ],
   "source": [
    "import glob\n",
    "import time\n",
    "from langchain_community.document_loaders import PyPDFLoader\n",
    "from langchain.text_splitter import RecursiveCharacterTextSplitter\n",
    "\n",
    "# Get all PDF files in the data directory\n",
    "pdf_files = glob.glob(\"./data/*.pdf\")\n",
    "print(f\"Found {len(pdf_files)} PDF files:\")\n",
    "for file in pdf_files:\n",
    "    print(f\"  - {file}\")\n",
    "\n",
    "# Load all PDF files with PyPDF (much faster!)\n",
    "all_documents_pypdf = []\n",
    "text_splitter = RecursiveCharacterTextSplitter(\n",
    "    chunk_size=1000,\n",
    "    chunk_overlap=200\n",
    ")\n",
    "\n",
    "for pdf_file in pdf_files:\n",
    "    try:\n",
    "        print(f\"\\nLoading {pdf_file}...\")\n",
    "        start_time = time.time()\n",
    "        \n",
    "        # PyPDFLoader is MUCH faster than UnstructuredPDFLoader\n",
    "        loader = PyPDFLoader(pdf_file)\n",
    "        pages = loader.load()\n",
    "        \n",
    "        # Split into smaller chunks for better retrieval\n",
    "        documents = text_splitter.split_documents(pages)\n",
    "        \n",
    "        elapsed = time.time() - start_time\n",
    "        all_documents_pypdf.extend(documents)\n",
    "        print(f\"✓ Loaded {len(pages)} pages → {len(documents)} chunks in {elapsed:.1f}s\")\n",
    "        \n",
    "    except Exception as e:\n",
    "        print(f\"✗ Error loading {pdf_file}: {e}\")\n",
    "\n",
    "print(f\"\\nTotal documents: {len(all_documents_pypdf)}\")"
   ]
  },
  {
   "cell_type": "code",
   "execution_count": 7,
   "id": "30219f1a",
   "metadata": {},
   "outputs": [],
   "source": [
    "from langchain_community.vectorstores import Qdrant\n",
    "from langchain_openai import OpenAIEmbeddings\n",
    "\n",
    "embeddings = OpenAIEmbeddings(model=\"text-embedding-3-small\")\n",
    "\n",
    "vectorstore = Qdrant.from_documents(\n",
    "    all_documents_pypdf,\n",
    "    embeddings,\n",
    "    location=\":memory:\",\n",
    "    collection_name=\"Manuals\"\n",
    ")"
   ]
  },
  {
   "cell_type": "markdown",
   "id": "1b4061ae",
   "metadata": {},
   "source": [
    "### Now let's create the retrieval node\n",
    "\n",
    "This is not RAG. I want this node to just fetch the information"
   ]
  },
  {
   "cell_type": "code",
   "execution_count": 8,
   "id": "23d5893f",
   "metadata": {},
   "outputs": [],
   "source": [
    "from langchain.retrievers.contextual_compression import ContextualCompressionRetriever\n",
    "from langchain_cohere import CohereRerank\n",
    "\n",
    "naive_retriever = vectorstore.as_retriever(search_kwargs={\"k\" : 10})\n",
    "\n",
    "compressor = CohereRerank(model=\"rerank-v3.5\")\n",
    "compression_retriever = ContextualCompressionRetriever(\n",
    "    base_compressor=compressor, base_retriever=naive_retriever\n",
    ")"
   ]
  },
  {
   "cell_type": "code",
   "execution_count": 9,
   "id": "618e3969",
   "metadata": {},
   "outputs": [
    {
     "data": {
      "image/png": "[encoded data removed]",
      "text/plain": [
       "<langgraph.graph.state.CompiledStateGraph object at 0x13d5fcd70>"
      ]
     },
     "execution_count": 9,
     "metadata": {},
     "output_type": "execute_result"
    }
   ],
   "source": [
    "from langgraph.graph import START, StateGraph\n",
    "from typing_extensions import TypedDict\n",
    "from langchain_core.documents import Document\n",
    "from langchain_core.output_parsers import StrOutputParser\n",
    "\n",
    "class RetrievalState(TypedDict):\n",
    "    messages: Annotated[List[BaseMessage], operator.add]\n",
    "    team_members: List[str]\n",
    "    next: str\n",
    "\n",
    "def naive_retrieve(state: RetrievalState) -> RetrievalState:\n",
    "    retrieved_docs = naive_retriever.invoke(state[\"messages\"][-1].content)  # Get question from last message\n",
    "    \n",
    "    # Convert Documents to messages\n",
    "    context_message = f\"Retrieved context from documents:\\n\"\n",
    "    for i, doc in enumerate(retrieved_docs):\n",
    "        context_message += f\"\\n--- Document {i+1} ---\\n{doc.page_content}\\n\"\n",
    "    \n",
    "    return {\n",
    "        \"messages\": [\n",
    "            HumanMessage(content=\"Retrieval agent responding:\"),\n",
    "            AIMessage(content=context_message, name=\"Retrieval\")\n",
    "        ]\n",
    "    }\n",
    "\n",
    "def compression_retrieve(state: RetrievalState) -> RetrievalState:\n",
    "    retrieved_docs = naive_retriever.invoke(state[\"messages\"][-1].content)  # Get question from last message\n",
    "    \n",
    "    # Convert Documents to messages\n",
    "    context_message = f\"Retrieved context from documents:\\n\"\n",
    "    for i, doc in enumerate(retrieved_docs):\n",
    "        context_message += f\"\\n--- Document {i+1} ---\\n{doc.page_content}\\n\"\n",
    "    \n",
    "    return {\n",
    "        \"messages\": [\n",
    "            HumanMessage(content=\"Retrieval agent responding:\"),\n",
    "            AIMessage(content=context_message, name=\"Retrieval\")\n",
    "        ]\n",
    "    }\n",
    "\n",
    "graph_builder = StateGraph(RetrievalState)\n",
    "graph_builder = graph_builder.add_sequence([naive_retrieve])\n",
    "graph_builder.add_edge(START, \"naive_retrieve\")\n",
    "retrieval_graph = graph_builder.compile()\n",
    "\n",
    "retrieval_graph"
   ]
  },
  {
   "cell_type": "code",
   "execution_count": null,
   "id": "7b3b00b1",
   "metadata": {},
   "outputs": [
    {
     "data": {
      "text/plain": [
       "{'messages': [HumanMessage(content='What are the front facing height and weight limits for the car seat?', additional_kwargs={}, response_metadata={}),\n",
       "  HumanMessage(content='Retrieval agent responding:', additional_kwargs={}, response_metadata={}),\n",
       "  AIMessage(content='Retrieved context from documents:\\n\\n--- Document 1 ---\\n15\\n  When Using This Car Seat \\nin Forward-Facing Mode\\nP Child’s weight is between 22 and 65 lb \\n(10 and 29.5 kg).\\nP Child’s height is between 30 and 49 in. \\n(76 and 124 cm).\\nP Child is at least 1 year of age.\\nP Car seat is securely installed in a rear \\nvehicle seating position using either the \\nrigid LATCH Connectors and the Top \\nTether; the vehicle belt and Top Tether; or \\nthe rigid LATCH Connectors, the vehicle \\nbelt, and the Top Tether.\\nNOTE: If child weighs more than 35 lb \\n(15.9 kg), this car seat must be installed \\neither with the vehicle belt and the Top \\nTether or with the rigid LATCH lower \\nconnectors, the vehicle belt, and the \\nTop Tether. \\nP Car Seat is properly assembled with  \\nthe headrest properly secured. The  \\nRear-Facing Base and Anti-Rebound  \\nBar must be removed when using seat \\nForward-Facing.\\n\\n--- Document 2 ---\\n13\\nAmerican Academy of Pediatrics (AAP) Recommendation\\nThe AAP advises, and some states require, parents to keep their toddlers in Rear-Facing  \\ncar seats until age 2, or until they reach the maximum height and weight for their seat.\\n  When Using This Car \\nSeat in Rear-Facing Mode\\nP All infants less than one year old or 22 lb \\n(10 kg) must be Rear-Facing.\\nP Child’s weight is between 14 and 50 lb \\n(6.4 and 22.7 kg),\\nP Child’s height is between 25 and 43 in. \\n(64 and 110 cm),\\nP Child is able to sit upright alone.\\nP Car seat is securely installed in a rear \\nvehicle seating position using either the \\nLATCH Belt or the vehicle belt as instructed \\nin this manual.\\nNOTE: If child weighs more than 25 lb \\n(11.4 kg), this car seat must be installed \\nwith the vehicle belt.\\nP Car Seat is properly assembled with the \\nHeadrest, Rear-Facing Base, and the Anti-\\nRebound Bar properly secured.\\n\\n--- Document 3 ---\\n19\\nVehicle Seat Location Requirements\\n• Before using this car seat, reference your vehicle owner’s \\nmanual for:\\n– Car seat installation instructions \\n– Information about air bags and car seat use\\n– Restrictions on combined use of LATCH and vehicle belt\\n• For a toddler over one year old and Forward-Facing,  \\nif a vehicle front seat location with an air bag must be \\nused, follow the vehicle manufacturer’s instructions for  \\nchild restraint use and move the vehicle seat back as far  \\nas possible.\\n WARNING\\n• According to accident statistics, \\nchildren 12 and under are safer \\nwhen properly restrained in the \\nback seat rather than in the \\nfront seat.\\n\\n--- Document 4 ---\\non product labels and in this\\nmanual and in your vehicle\\nowner’s manual before installing\\nor using this car seat.\\n• Failure to properly install or use\\nthis car seat or follow these\\nwarnings and those on this car\\nseat’s labels can result in serious\\ninjury or death to the child\\nin a sharp turn, sudden stop or\\ncrash.\\nC01-0602-G1-US\\nFoonf Instruction Manual\\nThis car seat is designed for use either Rear-Facing or Forward-Facing by children who meet\\nall of the following requirements:\\nHEIGHT WEIGHT AGE\\n25 – 43 in.\\n64 – 110 cm\\n14–5 0l b\\n6.4 – 22.7 kg\\nAble to sit\\nupright alone\\nHEIGHT WEIGHT AGE\\n30 – 49 in.\\n76–1 24 cm\\n22 – 65 lb\\n10–2 9.5 kg\\n2+ years\\nrecommended\\n(1 year min.)\\nFebruary 2024\\nFO24USG1\\n39\\n38\\n36\\n\\n--- Document 5 ---\\n14\\nP The top of the child’s head must be at least \\n1 in. (2.5 cm) below the top of the car seat’s \\nHeadrest, as shown in Figure 1.\\nNOTE: If the top of the child’s head is less \\nthan 1 in. (2.5 cm) below the top of the \\nHeadrest in the highest adjustment position, \\nyour child is too large for using this car seat \\nRear-Facing and must be transitioned to \\nusing this car seat Forward-Facing.\\nP The Shoulder Harness Straps must be \\nthrough Shoulder Harness Slots at or  \\nbelow and closest to the child’s shoulders, \\nas shown in Figure 2 .\\nP The Crotch Strap should be through \\nthe inner Crotch Strap Slot.\\nP Bottom of Headrest is at or above the \\nShoulder Harness Slots in Use.\\nP Harness is fully secured and snugly adjusted \\naround child.\\nP Car Seat must be adjusted to recline position \\n2 or 3, with the Rear-Facing Reference Line \\nappropriate for the child’s weight parallel to \\nthe ground.\\nP Car seat should not move more than 1” in \\nany direction when grasped above the Rear-\\n\\n--- Document 6 ---\\nWARNING\\n• Read and understand all \\ninformation and instructions \\non product labels and in this \\nmanual and in your vehicle \\nowner’s manual before installing \\nor using this car seat.\\n• Failure to properly install or \\nuse this car seat or follow these \\nwarnings and those on this car \\nseat’s labels can result in serious \\ninjury or death to the child \\nin a sharp turn, sudden stop \\nor crash.\\nC01-0602-G1-US\\nFoonf Instruction Manual\\nThis car seat is designed for use either Rear-Facing or Forward-Facing by children who meet \\nall of the following requirements:\\nHEIGHT WEIGHT AGE\\n25 – 43 in.\\n64 – 110 cm\\n14 – 50 lb\\n6.4 – 22.7 kg\\nAble to sit \\nupright alone\\nHEIGHT WEIGHT AGE\\n30 – 49 in.\\n76 – 124 cm\\n22 – 65 lb\\n10 – 29.5 kg\\n2+ years \\nrecommended  \\n(1 year min.)\\nFebruary 2024\\nFO24USG1FO24USG1\\n\\n--- Document 7 ---\\n12\\nCertification\\n• This child restraint system conforms to all \\napplicable Federal Motor Vehicle Safety Standards.\\n• This restraint is certified for use in Motor Vehicles and Aircraft.\\nChild Size Limitations \\nand Checklist for Proper Use\\n WARNING\\n• Use only in a Rear-Facing position when using this car seat with an infant \\nless than one year old and weighing less than 22 lb (10 kg). \\n• Failure to choose the correct car seat mode (Rear-Facing or Forward-\\nFacing) and to properly secure this seat and your child can increase the \\nrisk of injury or death.\\n• NEVER use this seat with children not able to sit upright alone. Their head \\nmay fall forward, which could restrict their ability to breathe.\\n\\n--- Document 8 ---\\n69\\nuuChild SafetyuSafety of Infants and Small Children\\nContinued\\nSafe Driving\\nSafety of Infants and Small Children\\nAn infant must be properly restrained in a rear-facing child seat until the infant \\nreaches the seat manufacturer’s weight or height limit for the seat.\\n■Positioning a rear-facing child seat\\nChild seats must be placed and secured in a \\nrear seating position.\\nWhen properly installed, a rear-facing child seat may prevent the driver or a front \\npassenger from moving their seat all the way back, or from locking their seat-back \\nin the desired position. Make sure that there is no contact between the child seat \\nand the seat in front of it.\\nIt can also interfere with proper operation of the passenger’s advanced front airbag \\nsystem.\\n2 Airbags P. 49\\nIf this occurs, we recommend that you install the child seat directly behind the front \\npassenger’s seat, move the seat as far forward as needed, and leave it unoccupied. \\nOr, you may wish to get a smaller rear-facing child seat.\\n\\n--- Document 9 ---\\n8\\n WARNING — DEATH or  \\nSERIOUS INJURY can occur (continued)\\n• NEVER use this car seat with children not able to sit upright alone. Their \\nhead may fall forward, which could restrict their ability to breathe.\\n• Discontinue Rear-Facing use when:\\n– Child’s weight exceeds 50 lb (22.7 kg).\\n– Child’s height exceeds 43 in. (1 10 cm).\\n– Child’s head is less than 1 in. (2.5 cm) from top of Headrest in highest \\nposition.\\n• Discontinue Forward-Facing use when:\\n– Child’s weight exceeds 65 lb (29.5 kg).\\n– Child’s shoulders are above the top Shoulder Harness Slots.\\n– Top of child’s ears are above the top of the car seat’s Headrest in its \\nhighest adjustment position.\\n• This car seat must be installed by an adult.\\n• NEVER allow the child to buckle themselves in this car seat.\\n• Snugly adjust harness provided with this car seat around child.\\n\\n--- Document 10 ---\\nuuChild SafetyuSafety of Infants and Small Children\\n70 Safe Driving\\nIf a child has exceeded the weight and height limitations of a rear-facing child seat, \\nthe child should be properly restrained in a firmly secured forward-facing child seat \\nuntil they exceed the weight and height limitations for the forward-facing child seat.\\n■Forward-facing child seat placement\\nWe strongly recommend placing a forward-\\nfacing child seat in a rear seating position.\\nPlacing a forward-facing child seat in the front seat can be hazardous, even with \\nadvanced front airbags that automatically turn the passenger’s front airbag off. A \\nrear seat is the safest place for a child.\\n■Protecting Smaller Children 1Protecting Smaller Children\\nEducate yourself about the laws and regulations \\nregarding child seat use where you are driving, and \\nfollow the child seat manufacturer’s instructions.\\n3WARNING\\nPlacing a forward-facing child seat in the \\nfront seat can result in serious injury or\\n', additional_kwargs={}, response_metadata={}, name='Retrieval')],\n",
       " 'team_members': ['Search', 'Writer'],\n",
       " 'next': ''}"
      ]
     },
     "execution_count": 10,
     "metadata": {},
     "output_type": "execute_result"
    }
   ],
   "source": [
    "def retrieval_enter_chain(question: str):\n",
    "    return {\n",
    "        \"messages\": [HumanMessage(content=question[\"question\"])],\n",
    "        \"team_members\": [\"Search\", \"Writer\"],\n",
    "        \"next\": \"\"\n",
    "    }\n",
    "\n",
    "full_test_chain = retrieval_enter_chain | retrieval_graph\n",
    "\n",
    "full_test_chain.invoke({\"question\" : \"What are the front facing height and weight limits for the car seat?\"})"
   ]
  },
  {
   "cell_type": "code",
   "execution_count": null,
   "id": "65d2b4ac",
   "metadata": {},
   "outputs": [],
   "source": [
    "from ragas import EvaluationDataset\n",
    "\n",
    "evaluation_dataset = EvaluationDataset(eval_dataset)"
   ]
  },
  {
   "cell_type": "markdown",
   "id": "2f109885",
   "metadata": {},
   "source": [
    "### Helper functions\n",
    "Now I am going to create helper functions to help me quickly build the nodes, the graph and the connections between them.We will have our helper accepts the following parameters:\n",
    "\n",
    "\n",
    "- llm: the llm that will power this agent node\n",
    "- tools: the list of tools available to the llm\n",
    "- system_prompt: the system prompt to attach to the llm to ground its generation"
   ]
  },
  {
   "cell_type": "code",
   "execution_count": 12,
   "id": "9cd0e4a1",
   "metadata": {},
   "outputs": [],
   "source": [
    "def agent_node(state, agent, name):\n",
    "    result = agent.invoke(state)\n",
    "    \n",
    "    # Extract the actual output text from the agent result\n",
    "    if isinstance(result, dict):\n",
    "        output_text = result.get('output', str(result))\n",
    "    else:\n",
    "        output_text = str(result)\n",
    "    \n",
    "    # Return two messages: one identifying the agent, one with its response\n",
    "    return {\n",
    "        \"messages\": [\n",
    "            HumanMessage(content=f\"{name} agent responding:\"),\n",
    "            AIMessage(content=output_text, name=name)\n",
    "        ]\n",
    "    }"
   ]
  },
  {
   "cell_type": "code",
   "execution_count": 13,
   "id": "d295adb8",
   "metadata": {},
   "outputs": [],
   "source": [
    "def create_agent(\n",
    "    llm: ChatOpenAI,\n",
    "    tools: list,\n",
    "    system_prompt: str,\n",
    ") -> str:\n",
    "    \"\"\"Create a function-calling agent and add it to the graph.\"\"\"\n",
    "    system_prompt += (\"\\nWork autonomously according to your specialty, using the tools available to you.\"\n",
    "    \" Do not ask for clarification.\"\n",
    "    \" Your other team members (and other teams) will collaborate with you with their own specialties.\"\n",
    "    \" You are chosen for a reason!\")\n",
    "    prompt = ChatPromptTemplate.from_messages(\n",
    "        [\n",
    "            (\n",
    "                \"system\",\n",
    "                system_prompt,\n",
    "            ),\n",
    "            MessagesPlaceholder(variable_name=\"messages\"),\n",
    "            MessagesPlaceholder(variable_name=\"agent_scratchpad\"),\n",
    "        ]\n",
    "    )\n",
    "    agent = create_openai_functions_agent(llm, tools, prompt)\n",
    "    executor = AgentExecutor(agent=agent, tools=tools)\n",
    "    return executor"
   ]
  },
  {
   "cell_type": "code",
   "execution_count": 14,
   "id": "248ff377",
   "metadata": {},
   "outputs": [],
   "source": [
    "def create_router(llm: ChatOpenAI, system_prompt, members) -> str:\n",
    "    \"\"\"An LLM-based router.\"\"\"\n",
    "    options = [\"FINISH\"] + members\n",
    "    \n",
    "    tool_def = {\n",
    "        \"type\": \"function\",\n",
    "        \"function\": {\n",
    "            \"name\": \"route\",\n",
    "            \"description\": \"Select the next role.\",\n",
    "            \"parameters\": {\n",
    "                \"type\": \"object\",\n",
    "                \"properties\": {\n",
    "                    \"next\": {\n",
    "                        \"type\": \"string\",\n",
    "                        \"enum\": options,\n",
    "                    },\n",
    "                },\n",
    "                \"required\": [\"next\"],\n",
    "            },\n",
    "        }\n",
    "    }\n",
    "    prompt = ChatPromptTemplate.from_messages(\n",
    "        [\n",
    "            (\"system\", system_prompt),\n",
    "            MessagesPlaceholder(variable_name=\"messages\"),\n",
    "            (\n",
    "                \"system\",\n",
    "                \"Given the conversation above, who should act next?\"\n",
    "                \" Or should we FINISH? Select one of: {options}\",\n",
    "            ),\n",
    "        ]\n",
    "    ).partial(options=str(options), team_members=\", \".join(members))\n",
    "    \n",
    "    \n",
    "    return (\n",
    "        prompt\n",
    "        | llm.bind_tools([tool_def], tool_choice={\"type\": \"function\", \"function\": {\"name\": \"route\"}})\n",
    "        | JsonOutputToolsParser()\n",
    "    )"
   ]
  },
  {
   "cell_type": "markdown",
   "id": "a2833045",
   "metadata": {},
   "source": [
    "### Create the tools\n",
    "For this application we need only tavily.\n",
    "\n",
    "Tavily search for which we can just pull the implemented API from the library. \n",
    "\n",
    "If we were to create a custom tool we would just need to define  a function that calls the node and add the tool decorator. There is an example below, however we are not going to use it"
   ]
  },
  {
   "cell_type": "code",
   "execution_count": 15,
   "id": "0c3445ba",
   "metadata": {},
   "outputs": [
    {
     "name": "stderr",
     "output_type": "stream",
     "text": [
      "/var/folders/6m/hq4dj_jn0l96rctpr1_nhgyr0000gn/T/ipykernel_25211/3644306814.py:3: LangChainDeprecationWarning: The class `TavilySearchResults` was deprecated in LangChain 0.3.25 and will be removed in 1.0. An updated version of the class exists in the :class:`~langchain-tavily package and should be used instead. To use it run `pip install -U :class:`~langchain-tavily` and import as `from :class:`~langchain_tavily import TavilySearch``.\n",
      "  tavily_tool = TavilySearchResults(max_results=5)\n"
     ]
    }
   ],
   "source": [
    "from langchain_community.tools.tavily_search import TavilySearchResults\n",
    "\n",
    "tavily_tool = TavilySearchResults(max_results=5)\n",
    "\n",
    "tool_belt = [\n",
    "    tavily_tool,\n",
    "]"
   ]
  },
  {
   "cell_type": "code",
   "execution_count": 16,
   "id": "617ce90f",
   "metadata": {},
   "outputs": [],
   "source": [
    "@tool\n",
    "def search_internet(query: Annotated[str, \"Query to search the internet for\"]):\n",
    "    \"\"\"Search the internet for additional information\"\"\"\n",
    "    # Use your existing tavily_tool\n",
    "    results = tavily_tool.invoke(query)\n",
    "    \n",
    "    # Convert results to Document format\n",
    "    from langchain_core.documents import Document\n",
    "    docs = []\n",
    "    for result in results:\n",
    "        content = f\"Title: {result.get('title', '')}\\nContent: {result.get('content', '')}\\nURL: {result.get('url', '')}\"\n",
    "        docs.append(Document(page_content=content, metadata={\"source\": \"internet_search\", \"url\": result.get('url', '')}))\n",
    "    \n",
    "    return docs"
   ]
  },
  {
   "cell_type": "markdown",
   "id": "61841078",
   "metadata": {},
   "source": [
    "### Let's define the state functions\n",
    "\n",
    "First let's define what we want to keep track of at every step of the execution.\n",
    "\n",
    "- messages: The messages we've passed so far\n",
    "- team_members: which team members we have access to\n",
    "- next: what team member is up next"
   ]
  },
  {
   "cell_type": "markdown",
   "id": "4b62698b",
   "metadata": {},
   "source": [
    "### Now it is time to define the orchestrator node, the router in this case\n",
    "\n",
    "The router will receive the context from the retrieval and then decide whether it should call tavily or pass the context directly to the writer"
   ]
  },
  {
   "cell_type": "code",
   "execution_count": 17,
   "id": "9c7d9007",
   "metadata": {},
   "outputs": [],
   "source": [
    "from langchain_openai import ChatOpenAI\n",
    "\n",
    "llm = ChatOpenAI(model=\"gpt-4o-mini\", temperature=0)"
   ]
  },
  {
   "cell_type": "markdown",
   "id": "143a747f",
   "metadata": {},
   "source": [
    "### It is finally time to define the agents\n",
    "As a recap, we need:\n",
    "- a retrieval node, which we already have\n",
    "- a router/orchestrator agent that can either call the search or writer agent\n",
    "- a search agent\n",
    "- a writer agent"
   ]
  },
  {
   "cell_type": "code",
   "execution_count": 18,
   "id": "2296db25",
   "metadata": {},
   "outputs": [],
   "source": [
    "search_agent = create_agent(\n",
    "    llm, \n",
    "    [search_internet], \n",
    "    \"You are a research assistant who can search for details to asnwer the user query.\"\n",
    "    )\n",
    "\n",
    "# search_node = functools.partial(agent_node, agent=search_agent, name=\"Search\")\n",
    "\n",
    "def search_agent_node(state, agent, name):\n",
    "    result = agent.invoke(state)\n",
    "    \n",
    "    # Extract the search results (already Documents from your tool)\n",
    "    if isinstance(result, dict):\n",
    "        output_text = result.get('output', str(result))\n",
    "        # If output contains Documents, format them\n",
    "        if hasattr(result.get('output'), '__iter__') and all(hasattr(item, 'page_content') for item in result.get('output')):\n",
    "            search_message = f\"Internet search results:\\n\"\n",
    "            for i, doc in enumerate(result.get('output')):\n",
    "                search_message += f\"\\n--- Result {i+1} ---\\n{doc.page_content}\\n\"\n",
    "        else:\n",
    "            search_message = output_text\n",
    "    else:\n",
    "        search_message = str(result)\n",
    "    \n",
    "    return {\n",
    "        \"messages\": [\n",
    "            HumanMessage(content=f\"{name} agent responding:\"),\n",
    "            AIMessage(content=search_message, name=name)\n",
    "        ]\n",
    "    }\n",
    "\n",
    "search_node = functools.partial(search_agent_node, agent=search_agent, name=\"Search\")"
   ]
  },
  {
   "cell_type": "code",
   "execution_count": 19,
   "id": "106f6b2a",
   "metadata": {},
   "outputs": [],
   "source": [
    "from langchain_core.output_parsers import StrOutputParser\n",
    "from langchain_core.prompts import ChatPromptTemplate\n",
    "\n",
    "# Create a specific prompt and chain for the writer\n",
    "# This is a much simpler setup than a full agent\n",
    "writer_prompt = ChatPromptTemplate.from_messages(\n",
    "    [\n",
    "        (\"system\", \"You are a writer. Use the provided context to answer the user's question clearly and accurately.\"),\n",
    "        (\"user\", \"Question: {question}\\n\\nContext:\\n{context}\")\n",
    "    ]\n",
    ")\n",
    "writer_chain = writer_prompt | llm | StrOutputParser()\n",
    "\n",
    "def writer_node(state):\n",
    "    \"\"\"\n",
    "    The writer node. It takes the state, combines the context,\n",
    "    and generates the final answer.\n",
    "    \"\"\"\n",
    "    # Combine all context from messages\n",
    "    combined_context = \"\"\n",
    "    for msg in state[\"messages\"]:\n",
    "        if isinstance(msg, AIMessage) and msg.name in [\"Retrieval\", \"Search\"]:\n",
    "            combined_context += f\"\\n{msg.content}\\n\"\n",
    "            \n",
    "    # The first message is always the user's original question\n",
    "    question = state[\"messages\"][0].content\n",
    "    \n",
    "    # Invoke the writer chain\n",
    "    result = writer_chain.invoke({\"question\": question, \"context\": combined_context})\n",
    "    \n",
    "    return {\n",
    "        \"messages\": [\n",
    "            HumanMessage(content=\"Writer agent responding:\"),\n",
    "            AIMessage(content=result, name=\"Writer\")\n",
    "        ]\n",
    "    }"
   ]
  },
  {
   "cell_type": "code",
   "execution_count": 21,
   "id": "c1729ab5",
   "metadata": {},
   "outputs": [],
   "source": [
    "router_agent = create_router(\n",
    "    llm,\n",
    "    (\"You are a supervisor tasked with managing a conversation between the\"\n",
    "    \" following workers:  Search, Writer. Given the following user request,\"\n",
    "    \" determine if the information is enough to answer the user query. If it is,\"\n",
    "    \" pass the context to Writer. If it is not, pass the query to Search.\"\n",
    "    \" You should never ask Search to do anything beyond research.\"\n",
    "    \" You should never ask Writer to do anything beyond writing the answer given\"\n",
    "    \" the context.\"),\n",
    "    [\"Search\", \"Writer\"],\n",
    ")"
   ]
  },
  {
   "cell_type": "code",
   "execution_count": 22,
   "id": "69e4b8c7",
   "metadata": {},
   "outputs": [],
   "source": [
    "def router_node(state):\n",
    "    # Extract messages from the state\n",
    "    messages = state[\"messages\"]\n",
    "    \n",
    "    # Call the router chain with proper input\n",
    "    result = router_agent.invoke({\"messages\": messages})\n",
    "    \n",
    "    # The new parser returns a list of tool calls. We'll take the first one.\n",
    "    # The result looks like: [{'type': 'route', 'args': {'next': 'Writer'}}]\n",
    "    # So we access the arguments of the first tool call.\n",
    "    return {\n",
    "        **state, \n",
    "        \"next\": result[0][\"args\"][\"next\"]\n",
    "    }\n",
    "\n",
    "# def router_node(state):\n",
    "#     # Extract messages from the state\n",
    "#     messages = state[\"messages\"]\n",
    "    \n",
    "#     # Temporarily create a chain without the parser to see the raw output\n",
    "#     # router_agent is a RunnableSequence, so we can access its parts\n",
    "#     unparsed_router = router_agent.first | router_agent.middle[0]\n",
    "    \n",
    "#     # Let's see what the model is thinking\n",
    "#     print(\"--- Router Input Messages ---\")\n",
    "#     for msg in messages:\n",
    "#         print(msg)\n",
    "    \n",
    "#     raw_result = unparsed_router.invoke({\"messages\": messages})\n",
    "    \n",
    "#     print(\"\\n--- Raw Router Output ---\")\n",
    "#     print(raw_result)\n",
    "#     print(\"---------------------------\\n\")\n",
    "\n",
    "#     # Call the router chain with proper input\n",
    "#     result = router_agent.invoke({\"messages\": messages})\n",
    "    \n",
    "#     # Extract the routing decision and update state\n",
    "#     return {\n",
    "#         **state, \n",
    "#         \"next\": result[\"next\"]\n",
    "#     }"
   ]
  },
  {
   "cell_type": "markdown",
   "id": "b66af164",
   "metadata": {},
   "source": [
    "### Let's assemble the graph!"
   ]
  },
  {
   "cell_type": "code",
   "execution_count": 24,
   "id": "57581a87",
   "metadata": {},
   "outputs": [],
   "source": [
    "graph = StateGraph(RetrievalState)\n",
    "\n",
    "# Add nodes\n",
    "graph.add_node(\"Retrieve\", naive_retrieve)\n",
    "graph.add_node(\"Router\", router_node)\n",
    "graph.add_node(\"Search\", search_node)\n",
    "graph.add_node(\"Writer\", writer_node)\n",
    "\n",
    "# Set entry point\n",
    "graph.set_entry_point(\"Retrieve\")\n",
    "\n",
    "# Add edges\n",
    "graph.add_edge(\"Retrieve\", \"Router\")\n",
    "graph.add_conditional_edges(\n",
    "    \"Router\",\n",
    "    lambda x: x[\"next\"],\n",
    "    {\n",
    "        \"Search\": \"Search\",\n",
    "        \"Writer\": \"Writer\",\n",
    "    }\n",
    ")\n",
    "graph.add_edge(\"Search\", \"Writer\")\n",
    "graph.add_edge(\"Writer\", END)\n",
    "\n",
    "# Compile\n",
    "compiled_graph = graph.compile()"
   ]
  },
  {
   "cell_type": "code",
   "execution_count": 25,
   "id": "a4cfca06",
   "metadata": {},
   "outputs": [
    {
     "data": {
      "image/png": "[encoded data removed]",
      "text/plain": [
       "<IPython.core.display.Image object>"
      ]
     },
     "metadata": {},
     "output_type": "display_data"
    }
   ],
   "source": [
    "import nest_asyncio\n",
    "nest_asyncio.apply()\n",
    "\n",
    "from IPython.display import Image, display\n",
    "from langchain_core.runnables.graph import CurveStyle, MermaidDrawMethod, NodeStyles\n",
    "\n",
    "display(\n",
    "    Image(\n",
    "        compiled_graph.get_graph().draw_mermaid_png(\n",
    "            curve_style=CurveStyle.LINEAR,\n",
    "            node_colors=NodeStyles(first=\"#ffdfba\", last=\"#baffc9\", default=\"#fad7de\"),\n",
    "            wrap_label_n_words=9,\n",
    "            output_file_path=None,\n",
    "            draw_method=MermaidDrawMethod.PYPPETEER,\n",
    "            background_color=\"white\",\n",
    "            padding=10,\n",
    "        )\n",
    "    )\n",
    ")"
   ]
  },
  {
   "cell_type": "code",
   "execution_count": 26,
   "id": "13a5d7e2",
   "metadata": {},
   "outputs": [],
   "source": [
    "def enter_chain(message: str):\n",
    "    results = {\n",
    "        \"messages\": [HumanMessage(content=message)],\n",
    "        \"team_members\": [\"Search\", \"Writer\"], \n",
    "        \"next\": \"\",                           \n",
    "    }\n",
    "    return results\n",
    "\n",
    "research_chain = enter_chain | compiled_graph"
   ]
  },
  {
   "cell_type": "code",
   "execution_count": 27,
   "id": "ba96102d",
   "metadata": {},
   "outputs": [
    {
     "name": "stdout",
     "output_type": "stream",
     "text": [
      "{'Retrieve': {'messages': [HumanMessage(content='Retrieval agent responding:', additional_kwargs={}, response_metadata={}), AIMessage(content='Retrieved context from documents:\\n\\n--- Document 1 ---\\n15\\n  When Using This Car Seat \\nin Forward-Facing Mode\\nP Child’s weight is between 22 and 65 lb \\n(10 and 29.5 kg).\\nP Child’s height is between 30 and 49 in. \\n(76 and 124 cm).\\nP Child is at least 1 year of age.\\nP Car seat is securely installed in a rear \\nvehicle seating position using either the \\nrigid LATCH Connectors and the Top \\nTether; the vehicle belt and Top Tether; or \\nthe rigid LATCH Connectors, the vehicle \\nbelt, and the Top Tether.\\nNOTE: If child weighs more than 35 lb \\n(15.9 kg), this car seat must be installed \\neither with the vehicle belt and the Top \\nTether or with the rigid LATCH lower \\nconnectors, the vehicle belt, and the \\nTop Tether. \\nP Car Seat is properly assembled with  \\nthe headrest properly secured. The  \\nRear-Facing Base and Anti-Rebound  \\nBar must be removed when using seat \\nForward-Facing.\\n\\n--- Document 2 ---\\n13\\nAmerican Academy of Pediatrics (AAP) Recommendation\\nThe AAP advises, and some states require, parents to keep their toddlers in Rear-Facing  \\ncar seats until age 2, or until they reach the maximum height and weight for their seat.\\n  When Using This Car \\nSeat in Rear-Facing Mode\\nP All infants less than one year old or 22 lb \\n(10 kg) must be Rear-Facing.\\nP Child’s weight is between 14 and 50 lb \\n(6.4 and 22.7 kg),\\nP Child’s height is between 25 and 43 in. \\n(64 and 110 cm),\\nP Child is able to sit upright alone.\\nP Car seat is securely installed in a rear \\nvehicle seating position using either the \\nLATCH Belt or the vehicle belt as instructed \\nin this manual.\\nNOTE: If child weighs more than 25 lb \\n(11.4 kg), this car seat must be installed \\nwith the vehicle belt.\\nP Car Seat is properly assembled with the \\nHeadrest, Rear-Facing Base, and the Anti-\\nRebound Bar properly secured.\\n\\n--- Document 3 ---\\n19\\nVehicle Seat Location Requirements\\n• Before using this car seat, reference your vehicle owner’s \\nmanual for:\\n– Car seat installation instructions \\n– Information about air bags and car seat use\\n– Restrictions on combined use of LATCH and vehicle belt\\n• For a toddler over one year old and Forward-Facing,  \\nif a vehicle front seat location with an air bag must be \\nused, follow the vehicle manufacturer’s instructions for  \\nchild restraint use and move the vehicle seat back as far  \\nas possible.\\n WARNING\\n• According to accident statistics, \\nchildren 12 and under are safer \\nwhen properly restrained in the \\nback seat rather than in the \\nfront seat.\\n\\n--- Document 4 ---\\non product labels and in this\\nmanual and in your vehicle\\nowner’s manual before installing\\nor using this car seat.\\n• Failure to properly install or use\\nthis car seat or follow these\\nwarnings and those on this car\\nseat’s labels can result in serious\\ninjury or death to the child\\nin a sharp turn, sudden stop or\\ncrash.\\nC01-0602-G1-US\\nFoonf Instruction Manual\\nThis car seat is designed for use either Rear-Facing or Forward-Facing by children who meet\\nall of the following requirements:\\nHEIGHT WEIGHT AGE\\n25 – 43 in.\\n64 – 110 cm\\n14–5 0l b\\n6.4 – 22.7 kg\\nAble to sit\\nupright alone\\nHEIGHT WEIGHT AGE\\n30 – 49 in.\\n76–1 24 cm\\n22 – 65 lb\\n10–2 9.5 kg\\n2+ years\\nrecommended\\n(1 year min.)\\nFebruary 2024\\nFO24USG1\\n39\\n38\\n36\\n\\n--- Document 5 ---\\nWARNING\\n• Read and understand all \\ninformation and instructions \\non product labels and in this \\nmanual and in your vehicle \\nowner’s manual before installing \\nor using this car seat.\\n• Failure to properly install or \\nuse this car seat or follow these \\nwarnings and those on this car \\nseat’s labels can result in serious \\ninjury or death to the child \\nin a sharp turn, sudden stop \\nor crash.\\nC01-0602-G1-US\\nFoonf Instruction Manual\\nThis car seat is designed for use either Rear-Facing or Forward-Facing by children who meet \\nall of the following requirements:\\nHEIGHT WEIGHT AGE\\n25 – 43 in.\\n64 – 110 cm\\n14 – 50 lb\\n6.4 – 22.7 kg\\nAble to sit \\nupright alone\\nHEIGHT WEIGHT AGE\\n30 – 49 in.\\n76 – 124 cm\\n22 – 65 lb\\n10 – 29.5 kg\\n2+ years \\nrecommended  \\n(1 year min.)\\nFebruary 2024\\nFO24USG1FO24USG1\\n\\n--- Document 6 ---\\n12\\nCertification\\n• This child restraint system conforms to all \\napplicable Federal Motor Vehicle Safety Standards.\\n• This restraint is certified for use in Motor Vehicles and Aircraft.\\nChild Size Limitations \\nand Checklist for Proper Use\\n WARNING\\n• Use only in a Rear-Facing position when using this car seat with an infant \\nless than one year old and weighing less than 22 lb (10 kg). \\n• Failure to choose the correct car seat mode (Rear-Facing or Forward-\\nFacing) and to properly secure this seat and your child can increase the \\nrisk of injury or death.\\n• NEVER use this seat with children not able to sit upright alone. Their head \\nmay fall forward, which could restrict their ability to breathe.\\n\\n--- Document 7 ---\\nless than one year old and weighing less than 22 lb (10 kg). \\n• Failure to choose the correct car seat mode (Rear-Facing or Forward-\\nFacing) and to properly secure this car seat and your child can increase \\nthe risk of injury or death.\\n\\n--- Document 8 ---\\nuuChild SafetyuSafety of Infants and Small Children\\n70 Safe Driving\\nIf a child has exceeded the weight and height limitations of a rear-facing child seat, \\nthe child should be properly restrained in a firmly secured forward-facing child seat \\nuntil they exceed the weight and height limitations for the forward-facing child seat.\\n■Forward-facing child seat placement\\nWe strongly recommend placing a forward-\\nfacing child seat in a rear seating position.\\nPlacing a forward-facing child seat in the front seat can be hazardous, even with \\nadvanced front airbags that automatically turn the passenger’s front airbag off. A \\nrear seat is the safest place for a child.\\n■Protecting Smaller Children 1Protecting Smaller Children\\nEducate yourself about the laws and regulations \\nregarding child seat use where you are driving, and \\nfollow the child seat manufacturer’s instructions.\\n3WARNING\\nPlacing a forward-facing child seat in the \\nfront seat can result in serious injury or\\n\\n--- Document 9 ---\\nii\\n When Using This Car Seat in Forward-Facing Mode\\nIMPORTANT: NEVER use this car seat when installing Forward-Facing with Rigid LATCH or  \\na lap belt, without the Top Tether.\\nALWAYS secure the Top Tether provided with this car seat when installing Forward-Facing with \\nlap/shoulder belt unless no Top Tether anchorage is available. If installing with a vehicle belt \\nwithout a top tether, follow the set-up instructions below:  \\n– choose one of the top two (2) sets of Shoulder Harness Slots at or just above and  \\nclosest to the shoulders\\n– for children under 40lb (18.1 kg), the Crotch Strap must be through the inner \\nCrotch Strap Slot.\\n– only use recline position 1.\\nALLOWABLE \\nINSTALLATION\\nMETHOD\\nCHILD \\nWEIGHT\\nCHILD \\nHEIGHT\\nCHILD AGE \\n(MIN \\nREQUIREMENTS)\\nALLOWABLE \\nRECLINE \\nPOSITIONS\\nCROTCH BUCKLE \\nPOSITION\\nSHOULDER \\nHARNESS \\nPOSITION\\nLap Belt +  \\nTop Tether\\n22 - 65 lb\\n30 - 49”\\n2+ years \\nrecommended \\n(1 year min.)\\n2 only\\nFront\\nAt or just \\nabove \\nshoulder\\nLap and \\nShoulder Belt\\n\\n--- Document 10 ---\\nthan 25 lb (1 1.4 kg), this car seat must be installed with a vehicle belt.\\n• When using this car seat in Forward-Facing mode with a child weighing \\nmore than 35 lb (15.9 kg), this car seat must be installed with: \\n– the Rigid LATCH Connectors, the vehicle belt and the Top Tether; or \\n– the vehicle belt and the Top Tether\\n', additional_kwargs={}, response_metadata={}, name='Retrieval')]}}\n",
      "---\n",
      "{'Router': {'messages': [HumanMessage(content='What is the weight and height limits for the car seat when front facing?', additional_kwargs={}, response_metadata={}), HumanMessage(content='Retrieval agent responding:', additional_kwargs={}, response_metadata={}), AIMessage(content='Retrieved context from documents:\\n\\n--- Document 1 ---\\n15\\n  When Using This Car Seat \\nin Forward-Facing Mode\\nP Child’s weight is between 22 and 65 lb \\n(10 and 29.5 kg).\\nP Child’s height is between 30 and 49 in. \\n(76 and 124 cm).\\nP Child is at least 1 year of age.\\nP Car seat is securely installed in a rear \\nvehicle seating position using either the \\nrigid LATCH Connectors and the Top \\nTether; the vehicle belt and Top Tether; or \\nthe rigid LATCH Connectors, the vehicle \\nbelt, and the Top Tether.\\nNOTE: If child weighs more than 35 lb \\n(15.9 kg), this car seat must be installed \\neither with the vehicle belt and the Top \\nTether or with the rigid LATCH lower \\nconnectors, the vehicle belt, and the \\nTop Tether. \\nP Car Seat is properly assembled with  \\nthe headrest properly secured. The  \\nRear-Facing Base and Anti-Rebound  \\nBar must be removed when using seat \\nForward-Facing.\\n\\n--- Document 2 ---\\n13\\nAmerican Academy of Pediatrics (AAP) Recommendation\\nThe AAP advises, and some states require, parents to keep their toddlers in Rear-Facing  \\ncar seats until age 2, or until they reach the maximum height and weight for their seat.\\n  When Using This Car \\nSeat in Rear-Facing Mode\\nP All infants less than one year old or 22 lb \\n(10 kg) must be Rear-Facing.\\nP Child’s weight is between 14 and 50 lb \\n(6.4 and 22.7 kg),\\nP Child’s height is between 25 and 43 in. \\n(64 and 110 cm),\\nP Child is able to sit upright alone.\\nP Car seat is securely installed in a rear \\nvehicle seating position using either the \\nLATCH Belt or the vehicle belt as instructed \\nin this manual.\\nNOTE: If child weighs more than 25 lb \\n(11.4 kg), this car seat must be installed \\nwith the vehicle belt.\\nP Car Seat is properly assembled with the \\nHeadrest, Rear-Facing Base, and the Anti-\\nRebound Bar properly secured.\\n\\n--- Document 3 ---\\n19\\nVehicle Seat Location Requirements\\n• Before using this car seat, reference your vehicle owner’s \\nmanual for:\\n– Car seat installation instructions \\n– Information about air bags and car seat use\\n– Restrictions on combined use of LATCH and vehicle belt\\n• For a toddler over one year old and Forward-Facing,  \\nif a vehicle front seat location with an air bag must be \\nused, follow the vehicle manufacturer’s instructions for  \\nchild restraint use and move the vehicle seat back as far  \\nas possible.\\n WARNING\\n• According to accident statistics, \\nchildren 12 and under are safer \\nwhen properly restrained in the \\nback seat rather than in the \\nfront seat.\\n\\n--- Document 4 ---\\non product labels and in this\\nmanual and in your vehicle\\nowner’s manual before installing\\nor using this car seat.\\n• Failure to properly install or use\\nthis car seat or follow these\\nwarnings and those on this car\\nseat’s labels can result in serious\\ninjury or death to the child\\nin a sharp turn, sudden stop or\\ncrash.\\nC01-0602-G1-US\\nFoonf Instruction Manual\\nThis car seat is designed for use either Rear-Facing or Forward-Facing by children who meet\\nall of the following requirements:\\nHEIGHT WEIGHT AGE\\n25 – 43 in.\\n64 – 110 cm\\n14–5 0l b\\n6.4 – 22.7 kg\\nAble to sit\\nupright alone\\nHEIGHT WEIGHT AGE\\n30 – 49 in.\\n76–1 24 cm\\n22 – 65 lb\\n10–2 9.5 kg\\n2+ years\\nrecommended\\n(1 year min.)\\nFebruary 2024\\nFO24USG1\\n39\\n38\\n36\\n\\n--- Document 5 ---\\nWARNING\\n• Read and understand all \\ninformation and instructions \\non product labels and in this \\nmanual and in your vehicle \\nowner’s manual before installing \\nor using this car seat.\\n• Failure to properly install or \\nuse this car seat or follow these \\nwarnings and those on this car \\nseat’s labels can result in serious \\ninjury or death to the child \\nin a sharp turn, sudden stop \\nor crash.\\nC01-0602-G1-US\\nFoonf Instruction Manual\\nThis car seat is designed for use either Rear-Facing or Forward-Facing by children who meet \\nall of the following requirements:\\nHEIGHT WEIGHT AGE\\n25 – 43 in.\\n64 – 110 cm\\n14 – 50 lb\\n6.4 – 22.7 kg\\nAble to sit \\nupright alone\\nHEIGHT WEIGHT AGE\\n30 – 49 in.\\n76 – 124 cm\\n22 – 65 lb\\n10 – 29.5 kg\\n2+ years \\nrecommended  \\n(1 year min.)\\nFebruary 2024\\nFO24USG1FO24USG1\\n\\n--- Document 6 ---\\n12\\nCertification\\n• This child restraint system conforms to all \\napplicable Federal Motor Vehicle Safety Standards.\\n• This restraint is certified for use in Motor Vehicles and Aircraft.\\nChild Size Limitations \\nand Checklist for Proper Use\\n WARNING\\n• Use only in a Rear-Facing position when using this car seat with an infant \\nless than one year old and weighing less than 22 lb (10 kg). \\n• Failure to choose the correct car seat mode (Rear-Facing or Forward-\\nFacing) and to properly secure this seat and your child can increase the \\nrisk of injury or death.\\n• NEVER use this seat with children not able to sit upright alone. Their head \\nmay fall forward, which could restrict their ability to breathe.\\n\\n--- Document 7 ---\\nless than one year old and weighing less than 22 lb (10 kg). \\n• Failure to choose the correct car seat mode (Rear-Facing or Forward-\\nFacing) and to properly secure this car seat and your child can increase \\nthe risk of injury or death.\\n\\n--- Document 8 ---\\nuuChild SafetyuSafety of Infants and Small Children\\n70 Safe Driving\\nIf a child has exceeded the weight and height limitations of a rear-facing child seat, \\nthe child should be properly restrained in a firmly secured forward-facing child seat \\nuntil they exceed the weight and height limitations for the forward-facing child seat.\\n■Forward-facing child seat placement\\nWe strongly recommend placing a forward-\\nfacing child seat in a rear seating position.\\nPlacing a forward-facing child seat in the front seat can be hazardous, even with \\nadvanced front airbags that automatically turn the passenger’s front airbag off. A \\nrear seat is the safest place for a child.\\n■Protecting Smaller Children 1Protecting Smaller Children\\nEducate yourself about the laws and regulations \\nregarding child seat use where you are driving, and \\nfollow the child seat manufacturer’s instructions.\\n3WARNING\\nPlacing a forward-facing child seat in the \\nfront seat can result in serious injury or\\n\\n--- Document 9 ---\\nii\\n When Using This Car Seat in Forward-Facing Mode\\nIMPORTANT: NEVER use this car seat when installing Forward-Facing with Rigid LATCH or  \\na lap belt, without the Top Tether.\\nALWAYS secure the Top Tether provided with this car seat when installing Forward-Facing with \\nlap/shoulder belt unless no Top Tether anchorage is available. If installing with a vehicle belt \\nwithout a top tether, follow the set-up instructions below:  \\n– choose one of the top two (2) sets of Shoulder Harness Slots at or just above and  \\nclosest to the shoulders\\n– for children under 40lb (18.1 kg), the Crotch Strap must be through the inner \\nCrotch Strap Slot.\\n– only use recline position 1.\\nALLOWABLE \\nINSTALLATION\\nMETHOD\\nCHILD \\nWEIGHT\\nCHILD \\nHEIGHT\\nCHILD AGE \\n(MIN \\nREQUIREMENTS)\\nALLOWABLE \\nRECLINE \\nPOSITIONS\\nCROTCH BUCKLE \\nPOSITION\\nSHOULDER \\nHARNESS \\nPOSITION\\nLap Belt +  \\nTop Tether\\n22 - 65 lb\\n30 - 49”\\n2+ years \\nrecommended \\n(1 year min.)\\n2 only\\nFront\\nAt or just \\nabove \\nshoulder\\nLap and \\nShoulder Belt\\n\\n--- Document 10 ---\\nthan 25 lb (1 1.4 kg), this car seat must be installed with a vehicle belt.\\n• When using this car seat in Forward-Facing mode with a child weighing \\nmore than 35 lb (15.9 kg), this car seat must be installed with: \\n– the Rigid LATCH Connectors, the vehicle belt and the Top Tether; or \\n– the vehicle belt and the Top Tether\\n', additional_kwargs={}, response_metadata={}, name='Retrieval')], 'team_members': ['Search', 'Writer'], 'next': 'Writer'}}\n",
      "---\n",
      "{'Writer': {'messages': [HumanMessage(content='Writer agent responding:', additional_kwargs={}, response_metadata={}), AIMessage(content='When using the car seat in forward-facing mode, the weight limit is between **22 and 65 pounds** (10 to 29.5 kg), and the height limit is between **30 and 49 inches** (76 to 124 cm). Additionally, the child must be at least **1 year of age**.', additional_kwargs={}, response_metadata={}, name='Writer')]}}\n",
      "---\n"
     ]
    }
   ],
   "source": [
    "for s in research_chain.stream(\n",
    "    \"What is the weight and height limits for the car seat when front facing?\", {\"recursion_limit\": 100}\n",
    "):\n",
    "    if \"__end__\" not in s:\n",
    "        print(s)\n",
    "        print(\"---\")"
   ]
  },
  {
   "cell_type": "code",
   "execution_count": 28,
   "id": "33b381e7",
   "metadata": {},
   "outputs": [
    {
     "name": "stdout",
     "output_type": "stream",
     "text": [
      "{'Retrieve': {'messages': [HumanMessage(content='Retrieval agent responding:', additional_kwargs={}, response_metadata={}), AIMessage(content='Retrieved context from documents:\\n\\n--- Document 1 ---\\nᶕ Armrest..................................................................................................................page 2-16\\nᶖ ISOFIX lower anchors (Mexico)/LATCH lower anchors (Except Mexico).........page 2-48\\nPictorial Index\\nInterior Overview\\nThe equipment and installation position varies by vehicle 1-5\\nMazda6_8HX3-EA-19I_Edition1_old 2019-6-18 9:25:17\\n\\n--- Document 2 ---\\nUsing LATCH Lower Anchor (Except Mexico)\" (page 2-48).\\n*1 ISOFIX (Mexico)/LATCH (Except Mexico)\\nEssential Safety Equipment\\nChild Restraint\\n2-35\\nMazda6_8HX3-EA-19I_Edition1_old 2019-6-18 9:25:17\\n\\n--- Document 3 ---\\nwebbing) can be used at this seating\\nposition only if the child-restraint system\\nmanufacturer\\'s instructions state that the\\nchild-restraint system can be installed to\\nISOFIX/LATCH\\n*1 lower anchors that are\\n430 mm (16.9 in) apart. Do not attach two\\nchild-restraint systems to the same\\nISOFIX/LATCH*1 lower anchor. If your\\nchild-restraint system has a tether, it must\\nalso be used for your child\\'s optimum\\nsafety.\\n \\nThe procedure for installation on the rear\\noutboard seats is the same.\\n*1 ISOFIX (Mexico)/LATCH (Except\\nMexico)\\nEssential Safety Equipment\\nChild Restraint\\n2-51\\nMazda6_8HX3-EA-19I_Edition1_old 2019-6-18 9:25:17\\n\\n--- Document 4 ---\\nthe head restraint. Always follow the\\ninstruction manual accompanying the\\nchild-restraint system.\\n \\nAnchor bracket location\\nUse the indicated anchor bracket locations\\nwhen installing a child-restraint system\\nequipped with a tether.\\nAnchor bracket\\nFor left\\nFor right For center\\n*1\\n*1\\nExcept Mexico\\nEssential Safety Equipment\\nChild Restraint\\n2-41\\nMazda6_8HX3-EA-19I_Edition1_old 2019-6-18 9:25:17\\n\\n--- Document 5 ---\\n▼ Using ISOFIX Lower Anchor (Mexico)/Using LATCH Lower Anchor (Except\\nMexico)\\nYour Mazda is equipped with ISOFIX/LATCH*1 lower anchors for attachment of specially\\ndesigned ISOFIX/LATCH*1 child-restraint systems in the rear seats. Both anchors must be\\nused, otherwise the seat will bounce around and put the child in danger. Most ISOFIX/\\nLATCH*1 child-restraint systems must also be used in conjunction with a tether to be\\neffective. If they have a tether you must use it to better assure your child\\'s safety.\\nWARNING\\nFollow the manufacturer\\'s instructions for the use of the child-restraint system:\\nAn unsecured child-restraint system is dangerous. In a sudden stop or a collision it could move\\ncausing serious injury or death to the child or other occupants. Make sure the child-restraint\\nsystem is properly secured in place according to the child-restraint system manufacturer\\'s\\ninstructions.\\nNever attach two child-restraint systems to the same ISOFIX/LATCH*1 lower anchor:\\n\\n--- Document 6 ---\\nanchors.\\nLikewise the ISOFIX/LATCH\\n*1\\nchild-restraint system cannot be secured in\\nthe front passenger\\'s seat and should be\\nused in the rear seat.\\nDo not allow anyone to sleep against the\\nside window since your vehicle has side\\nand curtain air bags, it could cause serious\\ninjuries to an out of position occupant. As\\nchildren more often sleep in cars, it is\\nbetter to put them in the rear seat. If\\ninstalling the child-restraint system on the\\nfront seat is unavoidable, follow these\\ninstructions when using a front-facing\\nchild-restraint system in the front\\npassenger\\'s seat.\\nEssential Safety Equipment\\nChild Restraint\\n2-44\\nMazda6_8HX3-EA-19I_Edition1_old 2019-6-18 9:25:17\\n\\n--- Document 7 ---\\nHead Restraints\\nYour vehicle is equipped with head\\nrestraints on all outboard seats and the rear\\ncenter seat. The head restraints are\\nintended to help protect you and the\\npassengers from neck injury.\\nWARNING\\nAlways drive with the head restraints\\ninstalled when seats are being used and\\nmake sure they are properly adjusted:\\nDriving with the head restraints adjusted\\ntoo low or removed is dangerous. With no\\nsupport behind your head, your neck could\\nbe seriously injured in a collision.\\n▼ Height Adjustment\\nAdjust the head restraint so that the center\\nis even with the top of the passenger\\'s\\nears.\\n \\nTo raise a head restraint, pull it up to the\\ndesired position.\\nTo lower the head restraint, press the\\nstop-catch release, then push the head\\nrestraint down.\\nFront seats\\n \\nRear outboard seats\\n \\nRear center seat\\n \\nEssential Safety Equipment\\nSeats\\n2-17\\nMazda6_8HX3-EA-19I_Edition1_old 2019-6-18 9:25:17\\n\\n--- Document 8 ---\\nalways install the vehicle head restraint\\nto the seat where the backless booster\\nseat is installed.\\nRefer to Head Restraints on page 2-17.\\n5. Secure the child-restraint system using\\nBOTH ISOFIX/LATCH*1 lower\\nanchors, following the child-restraint\\nsystem manufacturer\\'s instruction. Pull\\non the child-restraint to be sure both\\nanchors are engaged.\\n6. If your child-restraint system came\\nequipped with a tether, that means it is\\nvery important to properly secure the\\ntether for child safety. Please carefully\\nfollow the child-restraint system\\nmanufacturer\\'s instructions when\\ninstalling tethers.\\n*1 ISOFIX (Mexico)/LATCH (Except\\nMexico)\\nWARNING\\nUse the tether and tether anchor only for a\\nchild-restraint system:\\nUsing the tether or tether anchor to secure\\nanything but a child-restraint system is\\ndangerous. This could weaken or damage\\nthe tether or tether anchor and result in\\ninjury.\\nEssential Safety Equipment\\nChild Restraint\\n2-50\\nMazda6_8HX3-EA-19I_Edition1_old 2019-6-18 9:25:17\\n\\n--- Document 9 ---\\nMake sure there are no seat belts or foreign objects near or around the ISOFIX/LATCH*1\\nchild-restraint system:\\nNot following the child-restraint system manufacturer\\'s instructions when installing the\\nchild-restraint system is dangerous. If seat belts or a foreign object prevent the child-restraint\\nsystem from being securely attached to the ISOFIX/LATCH*1 lower anchors and the\\nchild-restraint system is installed improperly, the child-restraint system could move in a\\nsudden stop or collision causing serious injury or death to the child or other occupants. When\\ninstalling the child-restraint system, make sure there are no seat belts or foreign objects near\\nor around the ISOFIX/LATCH*1 lower anchors. Always follow the child-restraint system\\nmanufacturer\\'s instructions.\\n*1 ISOFIX (Mexico)/LATCH (Except Mexico)\\nEssential Safety Equipment\\nChild Restraint\\n2-49\\nMazda6_8HX3-EA-19I_Edition1_old 2019-6-18 9:25:17\\n\\n--- Document 10 ---\\n• See your vehicle owner’s manual for seating positions \\nwhich can be used with LATCH.\\n• If not readily visible, the LATCH lower anchors may be \\nnoted by a symbol located near the crease between the \\nvehicle seat back and vehicle seat cushion, as shown in \\nFigure 6 .\\n• If covered, the LATCH top tether anchor locations may be \\nidentified by a symbol as shown in Figure 7. \\nFigure 5\\nFigure 6\\nFigure 7\\n', additional_kwargs={}, response_metadata={}, name='Retrieval')]}}\n",
      "---\n",
      "{'Router': {'messages': [HumanMessage(content='Where are the lower anchors located in the mazda 6?', additional_kwargs={}, response_metadata={}), HumanMessage(content='Retrieval agent responding:', additional_kwargs={}, response_metadata={}), AIMessage(content='Retrieved context from documents:\\n\\n--- Document 1 ---\\nᶕ Armrest..................................................................................................................page 2-16\\nᶖ ISOFIX lower anchors (Mexico)/LATCH lower anchors (Except Mexico).........page 2-48\\nPictorial Index\\nInterior Overview\\nThe equipment and installation position varies by vehicle 1-5\\nMazda6_8HX3-EA-19I_Edition1_old 2019-6-18 9:25:17\\n\\n--- Document 2 ---\\nUsing LATCH Lower Anchor (Except Mexico)\" (page 2-48).\\n*1 ISOFIX (Mexico)/LATCH (Except Mexico)\\nEssential Safety Equipment\\nChild Restraint\\n2-35\\nMazda6_8HX3-EA-19I_Edition1_old 2019-6-18 9:25:17\\n\\n--- Document 3 ---\\nwebbing) can be used at this seating\\nposition only if the child-restraint system\\nmanufacturer\\'s instructions state that the\\nchild-restraint system can be installed to\\nISOFIX/LATCH\\n*1 lower anchors that are\\n430 mm (16.9 in) apart. Do not attach two\\nchild-restraint systems to the same\\nISOFIX/LATCH*1 lower anchor. If your\\nchild-restraint system has a tether, it must\\nalso be used for your child\\'s optimum\\nsafety.\\n \\nThe procedure for installation on the rear\\noutboard seats is the same.\\n*1 ISOFIX (Mexico)/LATCH (Except\\nMexico)\\nEssential Safety Equipment\\nChild Restraint\\n2-51\\nMazda6_8HX3-EA-19I_Edition1_old 2019-6-18 9:25:17\\n\\n--- Document 4 ---\\nthe head restraint. Always follow the\\ninstruction manual accompanying the\\nchild-restraint system.\\n \\nAnchor bracket location\\nUse the indicated anchor bracket locations\\nwhen installing a child-restraint system\\nequipped with a tether.\\nAnchor bracket\\nFor left\\nFor right For center\\n*1\\n*1\\nExcept Mexico\\nEssential Safety Equipment\\nChild Restraint\\n2-41\\nMazda6_8HX3-EA-19I_Edition1_old 2019-6-18 9:25:17\\n\\n--- Document 5 ---\\n▼ Using ISOFIX Lower Anchor (Mexico)/Using LATCH Lower Anchor (Except\\nMexico)\\nYour Mazda is equipped with ISOFIX/LATCH*1 lower anchors for attachment of specially\\ndesigned ISOFIX/LATCH*1 child-restraint systems in the rear seats. Both anchors must be\\nused, otherwise the seat will bounce around and put the child in danger. Most ISOFIX/\\nLATCH*1 child-restraint systems must also be used in conjunction with a tether to be\\neffective. If they have a tether you must use it to better assure your child\\'s safety.\\nWARNING\\nFollow the manufacturer\\'s instructions for the use of the child-restraint system:\\nAn unsecured child-restraint system is dangerous. In a sudden stop or a collision it could move\\ncausing serious injury or death to the child or other occupants. Make sure the child-restraint\\nsystem is properly secured in place according to the child-restraint system manufacturer\\'s\\ninstructions.\\nNever attach two child-restraint systems to the same ISOFIX/LATCH*1 lower anchor:\\n\\n--- Document 6 ---\\nanchors.\\nLikewise the ISOFIX/LATCH\\n*1\\nchild-restraint system cannot be secured in\\nthe front passenger\\'s seat and should be\\nused in the rear seat.\\nDo not allow anyone to sleep against the\\nside window since your vehicle has side\\nand curtain air bags, it could cause serious\\ninjuries to an out of position occupant. As\\nchildren more often sleep in cars, it is\\nbetter to put them in the rear seat. If\\ninstalling the child-restraint system on the\\nfront seat is unavoidable, follow these\\ninstructions when using a front-facing\\nchild-restraint system in the front\\npassenger\\'s seat.\\nEssential Safety Equipment\\nChild Restraint\\n2-44\\nMazda6_8HX3-EA-19I_Edition1_old 2019-6-18 9:25:17\\n\\n--- Document 7 ---\\nHead Restraints\\nYour vehicle is equipped with head\\nrestraints on all outboard seats and the rear\\ncenter seat. The head restraints are\\nintended to help protect you and the\\npassengers from neck injury.\\nWARNING\\nAlways drive with the head restraints\\ninstalled when seats are being used and\\nmake sure they are properly adjusted:\\nDriving with the head restraints adjusted\\ntoo low or removed is dangerous. With no\\nsupport behind your head, your neck could\\nbe seriously injured in a collision.\\n▼ Height Adjustment\\nAdjust the head restraint so that the center\\nis even with the top of the passenger\\'s\\nears.\\n \\nTo raise a head restraint, pull it up to the\\ndesired position.\\nTo lower the head restraint, press the\\nstop-catch release, then push the head\\nrestraint down.\\nFront seats\\n \\nRear outboard seats\\n \\nRear center seat\\n \\nEssential Safety Equipment\\nSeats\\n2-17\\nMazda6_8HX3-EA-19I_Edition1_old 2019-6-18 9:25:17\\n\\n--- Document 8 ---\\nalways install the vehicle head restraint\\nto the seat where the backless booster\\nseat is installed.\\nRefer to Head Restraints on page 2-17.\\n5. Secure the child-restraint system using\\nBOTH ISOFIX/LATCH*1 lower\\nanchors, following the child-restraint\\nsystem manufacturer\\'s instruction. Pull\\non the child-restraint to be sure both\\nanchors are engaged.\\n6. If your child-restraint system came\\nequipped with a tether, that means it is\\nvery important to properly secure the\\ntether for child safety. Please carefully\\nfollow the child-restraint system\\nmanufacturer\\'s instructions when\\ninstalling tethers.\\n*1 ISOFIX (Mexico)/LATCH (Except\\nMexico)\\nWARNING\\nUse the tether and tether anchor only for a\\nchild-restraint system:\\nUsing the tether or tether anchor to secure\\nanything but a child-restraint system is\\ndangerous. This could weaken or damage\\nthe tether or tether anchor and result in\\ninjury.\\nEssential Safety Equipment\\nChild Restraint\\n2-50\\nMazda6_8HX3-EA-19I_Edition1_old 2019-6-18 9:25:17\\n\\n--- Document 9 ---\\nMake sure there are no seat belts or foreign objects near or around the ISOFIX/LATCH*1\\nchild-restraint system:\\nNot following the child-restraint system manufacturer\\'s instructions when installing the\\nchild-restraint system is dangerous. If seat belts or a foreign object prevent the child-restraint\\nsystem from being securely attached to the ISOFIX/LATCH*1 lower anchors and the\\nchild-restraint system is installed improperly, the child-restraint system could move in a\\nsudden stop or collision causing serious injury or death to the child or other occupants. When\\ninstalling the child-restraint system, make sure there are no seat belts or foreign objects near\\nor around the ISOFIX/LATCH*1 lower anchors. Always follow the child-restraint system\\nmanufacturer\\'s instructions.\\n*1 ISOFIX (Mexico)/LATCH (Except Mexico)\\nEssential Safety Equipment\\nChild Restraint\\n2-49\\nMazda6_8HX3-EA-19I_Edition1_old 2019-6-18 9:25:17\\n\\n--- Document 10 ---\\n• See your vehicle owner’s manual for seating positions \\nwhich can be used with LATCH.\\n• If not readily visible, the LATCH lower anchors may be \\nnoted by a symbol located near the crease between the \\nvehicle seat back and vehicle seat cushion, as shown in \\nFigure 6 .\\n• If covered, the LATCH top tether anchor locations may be \\nidentified by a symbol as shown in Figure 7. \\nFigure 5\\nFigure 6\\nFigure 7\\n', additional_kwargs={}, response_metadata={}, name='Retrieval')], 'team_members': ['Search', 'Writer'], 'next': 'Writer'}}\n",
      "---\n",
      "{'Writer': {'messages': [HumanMessage(content='Writer agent responding:', additional_kwargs={}, response_metadata={}), AIMessage(content='In the Mazda 6, the lower anchors for the LATCH (Lower Anchors and Tethers for Children) system are located in the rear seats. Specifically, they can be found near the crease between the vehicle seat back and the seat cushion. If they are not readily visible, there may be a symbol indicating their location. \\n\\nFor proper installation of a child-restraint system, both lower anchors must be used, and if the system includes a tether, it should also be secured for optimal safety.', additional_kwargs={}, response_metadata={}, name='Writer')]}}\n",
      "---\n"
     ]
    }
   ],
   "source": [
    "for s in research_chain.stream(\n",
    "    \"Where are the lower anchors located in the mazda 6?\", {\"recursion_limit\": 100}\n",
    "):\n",
    "    if \"__end__\" not in s:\n",
    "        print(s)\n",
    "        print(\"---\")"
   ]
  },
  {
   "cell_type": "code",
   "execution_count": 29,
   "id": "1c98d6b3",
   "metadata": {},
   "outputs": [
    {
     "name": "stdout",
     "output_type": "stream",
     "text": [
      "{'Retrieve': {'messages': [HumanMessage(content='Retrieval agent responding:', additional_kwargs={}, response_metadata={}), AIMessage(content=\"Retrieved context from documents:\\n\\n--- Document 1 ---\\n1. Select the  icon to display the\\nFavorites list.\\n2. Select .\\n3. Select .\\n4. The station is added to the bottom of\\nthe Favorites list.\\nNOTE\\nIf the battery is disconnected, your\\nFavorites list will not be deleted.\\nSelecting radio station from Favorites\\n1. Select the  icon to display the\\nFavorites list.\\n2. Select the radio frequency to tune in\\nthe radio station.\\nDeleting from Favorites\\n1. Select the  icon to display the\\nFavorites list.\\n2. Select .\\n3. Select .\\n4. Select the radio frequency you want to\\ndelete.\\n5. Select .\\nChanging Favorites list order\\n1. Select the  icon to display the\\nFavorites list.\\n2. Select .\\n3. Select .\\n4. Select a radio frequency. The selected\\nradio station can be moved.\\n5. Slide the radio station or move it using\\nthe commander switch, then select .\\n▼ Radio Broadcast Data System\\n(RBDS)*\\nRadio text information display\\nRadio text information sent from a\\nbroadcasting station is displayed in the\\ncenter display.\\nNOTE\\nRadio text information is a function of FM\\n\\n--- Document 2 ---\\n3. Attach the removed cap to the inner\\nside of the fuel-filler lid.\\n \\nFuel-filler lid\\nFuel-filler cap\\n4. Insert the refueling nozzle all the way\\nand begin refueling. Pull out the\\nrefueling nozzle after the refueling\\nstops automatically.\\n5. To close the fuel-filler cap, turn it\\nclockwise until a click is heard.\\n6. To close, press the fuel-filler lid until it\\nlocks securely.\\n \\nCAUTION\\n(SKYACTIV-G 2.5 and SKYACTIV-G 2.5T for\\nU.S.A. and Canada)\\nIf the check fuel cap warning light\\nilluminates, the fuel-filler cap may not be\\nproperly installed. If the warning light\\nilluminates, park your vehicle safely off the\\nright-of-way, remove the fuel-filler cap and\\nreinstall it correctly. After the cap has been\\ncorrectly installed, the fuel cap warning\\nlight may continue to illuminate until a\\nnumber of driving cycles have been\\ncompleted. A drive cycle consists of starting\\nthe engine (after four or more hours with\\nthe engine off) and driving the vehicle on\\ncity and highway roads.\\n\\n--- Document 3 ---\\n20\\n WARNING — DEATH or  \\nSERIOUS INJURY can occur\\n• Do not use this child restraint Rear-Facing in the \\nfront seat with an active frontal air bag. Child may \\nbe seriously injured or killed when an inflating air \\nbag hits back of child restraint.\\n• NEVER use this car seat in a front vehicle seat \\nlocation unless recommended by your vehicle \\nowner’s manual.\\n• Improper placement of this car seat in your vehicle \\nincreases the risk of serious injury or death. Some \\nseating positions in your vehicle may not be safe for \\nthis car seat. Some vehicles do not have any seating positions that can \\nbe used safely with this car seat. If you are not sure where to place this \\ncar seat in your vehicle, consult your vehicle owner’s manual or \\ncall 1-866-656-2462.\\nDO NOT place rear-facing child seat on front \\nseat with air bag. DEATH OR SERIOUS \\nINJURY can occur. The back seat is the safest \\nplace for children 12 and under.\\nNE PAS placer un siège d’enfant faisant face à\\n\\n--- Document 4 ---\\nFront passenger door request switch\\nTo unlock all doors, press the request\\nswitch. A beep sound will be heard twice\\nand the hazard warning lights will flash\\ntwice.\\nNOTE\\n\\uf0b7 The system can be set to unlock all\\ndoors by performing a single operation.\\nRefer to Other Equipment/Functions on\\npage 9-15.\\n\\uf0b7 Confirm that all doors are securely\\nlocked.\\nFor the trunk lid, move it without\\npressing the electric trunk lid opener to\\nverify that the trunk lid has not been left\\najar.\\n\\uf0b7 All doors cannot be locked when any\\ndoor is open.\\n\\uf0b7 It may require a few seconds for the\\ndoors to unlock after the request switch\\nis pressed.\\n\\uf0b7 A beep sound is heard for confirmation\\nwhen the doors are locked/unlocked\\nusing the request switch. If you prefer,\\nthe beep sound can be turned off.\\nThe volume of the beep sound can also\\nbe changed. Refer to Other Equipment/\\nFunctions on page 9-15.\\n\\uf0b7 The hazard warning lights flash when\\nthe theft-deterrent system is armed or\\nturned off.\\nRefer to Theft-Deterrent System on page\\n3-42.\\n\\n--- Document 5 ---\\n5. Remove the battery cap, then remove\\nthe battery.\\nCAUTION\\n\\uf0d8Be careful not to allow the rubber\\nring shown in the figure to be\\nscratched or damaged.\\n\\uf0d8If the rubber ring detaches, reattach\\nit before inserting a new battery.\\nRubber ring\\n6. Insert a new battery with the positive\\npole facing up, and then cover the\\nbattery with the battery cap.\\n7. Close the cover.\\n8. Reinsert the auxiliary key.\\nType B\\n1. Remove the lower cover while\\npressing the knob in the direction of\\nthe arrow.\\nMaintenance and Care\\nOwner Maintenance\\n6-46\\nMazda6_8HX3-EA-19I_Edition1_old 2019-6-18 9:25:17\\n\\n--- Document 6 ---\\n38\\nStep 1\\nPrepare car seat for Rear-Facing Installation:\\n• Fully recline car seat to Recline Position 3 \\nby pulling Recline Handle out and rotating \\ncar seat back as shown in Figure 41. \\n• Install Rear-Facing Base to bottom of \\nseat. See “Installing/Removing Rear-\\nFacing Base” on page 81.\\n• Remove seat cushion and install Anti-\\nRebound Bar. See “Installing/Removing \\nAnti-Rebound Bar” on page 84.\\nNote: This car seat can be used Rear-Facing \\nin recline position 2 or 3 only.\\nStep 2\\nSelect a Forward-Facing vehicle seating \\nlocation which has LATCH.\\nLocate the LATCH lower anchors (as explained \\nin the “Vehicle Child Restraint Anchorage \\nSystem (LATCH)” on page 18 in this manual \\nand in your vehicle owner’s manual. See \\nFigure 42 .\\nFigure 42\\n2\\ntation \\n’arrière Orientation v\\nPour ajust\\nPour déverrouiller les c\\nmaximum puis tirez sur les poignées de déverrouillage DUA.\\n13 2\\nOrientation \\nvers l’arrière Orientation vers l’avant\\n\\n--- Document 7 ---\\nLocation of the Tire Label (Placard)\\nYou will find the tire label containing tire inflation pressure by tire size and other important\\ninformation on the driver's side B-pillar or on the edge of the driver's door frame.\\n \\nSAMPLE\\n▼ Recommended Tire Inflation Pressure\\nOn the tire label you will find the recommended tire inflation pressure in both kPa and psi\\nfor the tires installed as original equipment on the vehicle. It is very important that the\\ninflation pressure of the tires on your vehicle is maintained at the recommended pressure.\\nYou should check the tire pressure regularly to insure that the proper inflation pressure is\\nmaintained.\\nRefer to Tires on page 9-9.\\nNOTE\\nTire pressures listed on the vehicle placard or tire information label indicate the\\nrecommended cold tire inflation pressure, measured when the tires are cold, after the vehicle\\nhas been parked for at least 3 hours. As you drive, the temperature in the tire warms up,\\nincreasing the tire pressure.\\n\\n--- Document 8 ---\\nthe glove compartment. Move the key to\\na location within the signal range,\\nswitch the ignition off, and then restart\\nthe engine.\\n\\uf0b7 Signals from a TV or radio station, or\\nfrom a transceiver or mobile telephone\\ncould interfere with your immobilizer\\nsystem. If you are using the proper key\\nand the engine fails to start, check the\\nsecurity indicator light.\\nArming\\nThe system is armed when the ignition is\\nswitched from ON to off.\\nThe security indicator light in the\\ninstrument cluster flashes every 2 seconds\\nuntil the system is disarmed.\\n \\nDisarming\\nThe system is disarmed when the ignition\\nis switched ON with the correct\\nprogrammed key. The security indicator\\nlight illuminates for about 3 seconds and\\nthen turns off. If the engine does not start\\nwith the correct key, and the security\\nindicator light remains illuminated or\\nflashing, try the following:\\nMake sure the key is within the\\noperational range for signal transmission.\\nSwitch the ignition off, and then restart the\\n\\n--- Document 9 ---\\nF\\nFeatures..................................................... 257\\nFile Manager............................................. 285\\nFilters\\nDust and Pollen ....................................... 629\\nOil ........................................................... 597\\nFlat Tire ..................................................... 639\\nFloor Mats ................................................. 631\\nFluids\\nAutomatic Transmission........................... 601\\nBrake....................................................... 602\\nEngine Coolant........................................ 599\\nWindshield Washer.................................. 603\\nFM/AM Radio ............................................ 297\\nFog Light Indicator ..................................... 98\\nFolding Down the Rear Seats ..........  216, 221\\nFoot Brake ................................................  558\\nFront Airbags (SRS).....................................  52\\nFront Seat Heaters....................................  247\\n\\n--- Document 10 ---\\nFront Map Lights\\nType A\\nWhen the overhead light switch is in the\\ndoor or off position, press the lens to\\nilluminate the front map lights, and then\\npress the lens again to turn them off.\\nNOTE\\nThe front map lights will not turn off even\\nif the lens is pressed in the following\\ncases:\\n\\uf0b7 The overhead light switch is in the ON\\nposition.\\n\\uf0b7 The overhead light switch is in the door\\nposition with the door open.\\n\\uf0b7 The illuminated entry system is on.\\nType B\\nPress the switch to illuminate the front\\nmap lights, and then press the switch again\\nto turn them off.\\nNOTE\\nThe front map lights will not turn off even\\nif the switch is pressed in the following\\ncases:\\n\\uf0b7 The overhead lights turn on by\\noperating the overhead ON/OFF switch\\n(\\n).\\n\\uf0b7 The overhead lights turn on in\\nconjunction with a door opening/\\nclosing.\\n\\uf0b7 The illuminated entry system is on.\\nRear Map Lights\\nType A\\nWhen the overhead light switch is in the\\ndoor or off position, press the lens to\\nilluminate a rear map light, and then press\\n\", additional_kwargs={}, response_metadata={}, name='Retrieval')]}}\n",
      "---\n",
      "{'Router': {'messages': [HumanMessage(content='What is the the capital of France?', additional_kwargs={}, response_metadata={}), HumanMessage(content='Retrieval agent responding:', additional_kwargs={}, response_metadata={}), AIMessage(content=\"Retrieved context from documents:\\n\\n--- Document 1 ---\\n1. Select the  icon to display the\\nFavorites list.\\n2. Select .\\n3. Select .\\n4. The station is added to the bottom of\\nthe Favorites list.\\nNOTE\\nIf the battery is disconnected, your\\nFavorites list will not be deleted.\\nSelecting radio station from Favorites\\n1. Select the  icon to display the\\nFavorites list.\\n2. Select the radio frequency to tune in\\nthe radio station.\\nDeleting from Favorites\\n1. Select the  icon to display the\\nFavorites list.\\n2. Select .\\n3. Select .\\n4. Select the radio frequency you want to\\ndelete.\\n5. Select .\\nChanging Favorites list order\\n1. Select the  icon to display the\\nFavorites list.\\n2. Select .\\n3. Select .\\n4. Select a radio frequency. The selected\\nradio station can be moved.\\n5. Slide the radio station or move it using\\nthe commander switch, then select .\\n▼ Radio Broadcast Data System\\n(RBDS)*\\nRadio text information display\\nRadio text information sent from a\\nbroadcasting station is displayed in the\\ncenter display.\\nNOTE\\nRadio text information is a function of FM\\n\\n--- Document 2 ---\\n3. Attach the removed cap to the inner\\nside of the fuel-filler lid.\\n \\nFuel-filler lid\\nFuel-filler cap\\n4. Insert the refueling nozzle all the way\\nand begin refueling. Pull out the\\nrefueling nozzle after the refueling\\nstops automatically.\\n5. To close the fuel-filler cap, turn it\\nclockwise until a click is heard.\\n6. To close, press the fuel-filler lid until it\\nlocks securely.\\n \\nCAUTION\\n(SKYACTIV-G 2.5 and SKYACTIV-G 2.5T for\\nU.S.A. and Canada)\\nIf the check fuel cap warning light\\nilluminates, the fuel-filler cap may not be\\nproperly installed. If the warning light\\nilluminates, park your vehicle safely off the\\nright-of-way, remove the fuel-filler cap and\\nreinstall it correctly. After the cap has been\\ncorrectly installed, the fuel cap warning\\nlight may continue to illuminate until a\\nnumber of driving cycles have been\\ncompleted. A drive cycle consists of starting\\nthe engine (after four or more hours with\\nthe engine off) and driving the vehicle on\\ncity and highway roads.\\n\\n--- Document 3 ---\\n20\\n WARNING — DEATH or  \\nSERIOUS INJURY can occur\\n• Do not use this child restraint Rear-Facing in the \\nfront seat with an active frontal air bag. Child may \\nbe seriously injured or killed when an inflating air \\nbag hits back of child restraint.\\n• NEVER use this car seat in a front vehicle seat \\nlocation unless recommended by your vehicle \\nowner’s manual.\\n• Improper placement of this car seat in your vehicle \\nincreases the risk of serious injury or death. Some \\nseating positions in your vehicle may not be safe for \\nthis car seat. Some vehicles do not have any seating positions that can \\nbe used safely with this car seat. If you are not sure where to place this \\ncar seat in your vehicle, consult your vehicle owner’s manual or \\ncall 1-866-656-2462.\\nDO NOT place rear-facing child seat on front \\nseat with air bag. DEATH OR SERIOUS \\nINJURY can occur. The back seat is the safest \\nplace for children 12 and under.\\nNE PAS placer un siège d’enfant faisant face à\\n\\n--- Document 4 ---\\nFront passenger door request switch\\nTo unlock all doors, press the request\\nswitch. A beep sound will be heard twice\\nand the hazard warning lights will flash\\ntwice.\\nNOTE\\n\\uf0b7 The system can be set to unlock all\\ndoors by performing a single operation.\\nRefer to Other Equipment/Functions on\\npage 9-15.\\n\\uf0b7 Confirm that all doors are securely\\nlocked.\\nFor the trunk lid, move it without\\npressing the electric trunk lid opener to\\nverify that the trunk lid has not been left\\najar.\\n\\uf0b7 All doors cannot be locked when any\\ndoor is open.\\n\\uf0b7 It may require a few seconds for the\\ndoors to unlock after the request switch\\nis pressed.\\n\\uf0b7 A beep sound is heard for confirmation\\nwhen the doors are locked/unlocked\\nusing the request switch. If you prefer,\\nthe beep sound can be turned off.\\nThe volume of the beep sound can also\\nbe changed. Refer to Other Equipment/\\nFunctions on page 9-15.\\n\\uf0b7 The hazard warning lights flash when\\nthe theft-deterrent system is armed or\\nturned off.\\nRefer to Theft-Deterrent System on page\\n3-42.\\n\\n--- Document 5 ---\\n5. Remove the battery cap, then remove\\nthe battery.\\nCAUTION\\n\\uf0d8Be careful not to allow the rubber\\nring shown in the figure to be\\nscratched or damaged.\\n\\uf0d8If the rubber ring detaches, reattach\\nit before inserting a new battery.\\nRubber ring\\n6. Insert a new battery with the positive\\npole facing up, and then cover the\\nbattery with the battery cap.\\n7. Close the cover.\\n8. Reinsert the auxiliary key.\\nType B\\n1. Remove the lower cover while\\npressing the knob in the direction of\\nthe arrow.\\nMaintenance and Care\\nOwner Maintenance\\n6-46\\nMazda6_8HX3-EA-19I_Edition1_old 2019-6-18 9:25:17\\n\\n--- Document 6 ---\\n38\\nStep 1\\nPrepare car seat for Rear-Facing Installation:\\n• Fully recline car seat to Recline Position 3 \\nby pulling Recline Handle out and rotating \\ncar seat back as shown in Figure 41. \\n• Install Rear-Facing Base to bottom of \\nseat. See “Installing/Removing Rear-\\nFacing Base” on page 81.\\n• Remove seat cushion and install Anti-\\nRebound Bar. See “Installing/Removing \\nAnti-Rebound Bar” on page 84.\\nNote: This car seat can be used Rear-Facing \\nin recline position 2 or 3 only.\\nStep 2\\nSelect a Forward-Facing vehicle seating \\nlocation which has LATCH.\\nLocate the LATCH lower anchors (as explained \\nin the “Vehicle Child Restraint Anchorage \\nSystem (LATCH)” on page 18 in this manual \\nand in your vehicle owner’s manual. See \\nFigure 42 .\\nFigure 42\\n2\\ntation \\n’arrière Orientation v\\nPour ajust\\nPour déverrouiller les c\\nmaximum puis tirez sur les poignées de déverrouillage DUA.\\n13 2\\nOrientation \\nvers l’arrière Orientation vers l’avant\\n\\n--- Document 7 ---\\nLocation of the Tire Label (Placard)\\nYou will find the tire label containing tire inflation pressure by tire size and other important\\ninformation on the driver's side B-pillar or on the edge of the driver's door frame.\\n \\nSAMPLE\\n▼ Recommended Tire Inflation Pressure\\nOn the tire label you will find the recommended tire inflation pressure in both kPa and psi\\nfor the tires installed as original equipment on the vehicle. It is very important that the\\ninflation pressure of the tires on your vehicle is maintained at the recommended pressure.\\nYou should check the tire pressure regularly to insure that the proper inflation pressure is\\nmaintained.\\nRefer to Tires on page 9-9.\\nNOTE\\nTire pressures listed on the vehicle placard or tire information label indicate the\\nrecommended cold tire inflation pressure, measured when the tires are cold, after the vehicle\\nhas been parked for at least 3 hours. As you drive, the temperature in the tire warms up,\\nincreasing the tire pressure.\\n\\n--- Document 8 ---\\nthe glove compartment. Move the key to\\na location within the signal range,\\nswitch the ignition off, and then restart\\nthe engine.\\n\\uf0b7 Signals from a TV or radio station, or\\nfrom a transceiver or mobile telephone\\ncould interfere with your immobilizer\\nsystem. If you are using the proper key\\nand the engine fails to start, check the\\nsecurity indicator light.\\nArming\\nThe system is armed when the ignition is\\nswitched from ON to off.\\nThe security indicator light in the\\ninstrument cluster flashes every 2 seconds\\nuntil the system is disarmed.\\n \\nDisarming\\nThe system is disarmed when the ignition\\nis switched ON with the correct\\nprogrammed key. The security indicator\\nlight illuminates for about 3 seconds and\\nthen turns off. If the engine does not start\\nwith the correct key, and the security\\nindicator light remains illuminated or\\nflashing, try the following:\\nMake sure the key is within the\\noperational range for signal transmission.\\nSwitch the ignition off, and then restart the\\n\\n--- Document 9 ---\\nF\\nFeatures..................................................... 257\\nFile Manager............................................. 285\\nFilters\\nDust and Pollen ....................................... 629\\nOil ........................................................... 597\\nFlat Tire ..................................................... 639\\nFloor Mats ................................................. 631\\nFluids\\nAutomatic Transmission........................... 601\\nBrake....................................................... 602\\nEngine Coolant........................................ 599\\nWindshield Washer.................................. 603\\nFM/AM Radio ............................................ 297\\nFog Light Indicator ..................................... 98\\nFolding Down the Rear Seats ..........  216, 221\\nFoot Brake ................................................  558\\nFront Airbags (SRS).....................................  52\\nFront Seat Heaters....................................  247\\n\\n--- Document 10 ---\\nFront Map Lights\\nType A\\nWhen the overhead light switch is in the\\ndoor or off position, press the lens to\\nilluminate the front map lights, and then\\npress the lens again to turn them off.\\nNOTE\\nThe front map lights will not turn off even\\nif the lens is pressed in the following\\ncases:\\n\\uf0b7 The overhead light switch is in the ON\\nposition.\\n\\uf0b7 The overhead light switch is in the door\\nposition with the door open.\\n\\uf0b7 The illuminated entry system is on.\\nType B\\nPress the switch to illuminate the front\\nmap lights, and then press the switch again\\nto turn them off.\\nNOTE\\nThe front map lights will not turn off even\\nif the switch is pressed in the following\\ncases:\\n\\uf0b7 The overhead lights turn on by\\noperating the overhead ON/OFF switch\\n(\\n).\\n\\uf0b7 The overhead lights turn on in\\nconjunction with a door opening/\\nclosing.\\n\\uf0b7 The illuminated entry system is on.\\nRear Map Lights\\nType A\\nWhen the overhead light switch is in the\\ndoor or off position, press the lens to\\nilluminate a rear map light, and then press\\n\", additional_kwargs={}, response_metadata={}, name='Retrieval')], 'team_members': ['Search', 'Writer'], 'next': 'Search'}}\n",
      "---\n",
      "{'Search': {'messages': [HumanMessage(content='Search agent responding:', additional_kwargs={}, response_metadata={}), AIMessage(content='The capital of France is Paris. It has been the capital since its liberation in 1944, although it has served as the capital for much longer, with its status dating back to 508 AD under King Clovis. Paris is not only the political capital but also a major cultural and commercial center in the world.', additional_kwargs={}, response_metadata={}, name='Search')]}}\n",
      "---\n",
      "{'Writer': {'messages': [HumanMessage(content='Writer agent responding:', additional_kwargs={}, response_metadata={}), AIMessage(content='The capital of France is Paris. It has been the capital since its liberation in 1944, although its status as the capital dates back to 508 AD under King Clovis. Paris is a significant political, cultural, and commercial center globally.', additional_kwargs={}, response_metadata={}, name='Writer')]}}\n",
      "---\n"
     ]
    }
   ],
   "source": [
    "for s in research_chain.stream(\n",
    "    \"What is the the capital of France?\", {\"recursion_limit\": 100}\n",
    "):\n",
    "    if \"__end__\" not in s:\n",
    "        print(s)\n",
    "        print(\"---\")"
   ]
  },
  {
   "cell_type": "markdown",
   "id": "eab6616b",
   "metadata": {},
   "source": [
    "### IT WORKS!"
   ]
  },
  {
   "cell_type": "markdown",
   "id": "4b4e50a2",
   "metadata": {},
   "source": [
    "# Now on to evaluating the agent's performance with RAGAS\n",
    "The plan is to\n",
    "- create the golden dataset\n",
    "- define metrics for evaluation\n",
    "- instantiate two versions of the graph, one with naive retrieval and one with context retrieval\n",
    "- evaluate them both\n",
    "- compare the metrics for the two strategies and identify the best one"
   ]
  },
  {
   "cell_type": "markdown",
   "id": "29e884dc",
   "metadata": {},
   "source": [
    "### Load the pdf files to parse and generate data from "
   ]
  },
  {
   "cell_type": "code",
   "execution_count": 30,
   "id": "5a9adb69",
   "metadata": {},
   "outputs": [],
   "source": [
    "from langchain_community.document_loaders import DirectoryLoader\n",
    "from langchain_community.document_loaders import PyMuPDFLoader\n",
    "\n",
    "\n",
    "path = \"data/\"\n",
    "loader = DirectoryLoader(path, glob=\"*.pdf\", loader_cls=PyMuPDFLoader)\n",
    "docs = loader.load()"
   ]
  },
  {
   "cell_type": "code",
   "execution_count": 31,
   "id": "68dd7958",
   "metadata": {},
   "outputs": [],
   "source": [
    "from ragas.llms import LangchainLLMWrapper\n",
    "from ragas.embeddings import LangchainEmbeddingsWrapper\n",
    "from langchain_openai import ChatOpenAI\n",
    "from langchain_openai import OpenAIEmbeddings\n",
    "\n",
    "generator_llm = LangchainLLMWrapper(ChatOpenAI(model=\"gpt-4.1-nano\"))\n",
    "generator_embeddings = LangchainEmbeddingsWrapper(OpenAIEmbeddings())"
   ]
  },
  {
   "cell_type": "code",
   "execution_count": 33,
   "id": "388e613d",
   "metadata": {},
   "outputs": [
    {
     "data": {
      "application/vnd.jupyter.widget-view+json": {
       "model_id": "377dd77f85d045e08482ee6b2bc2bbeb",
       "version_major": 2,
       "version_minor": 0
      },
      "text/plain": [
       "Applying SummaryExtractor:   0%|          | 0/87 [00:00<?, ?it/s]"
      ]
     },
     "metadata": {},
     "output_type": "display_data"
    },
    {
     "data": {
      "application/vnd.jupyter.widget-view+json": {
       "model_id": "1386226b0eb24297aaa7a768e1a3841b",
       "version_major": 2,
       "version_minor": 0
      },
      "text/plain": [
       "Applying CustomNodeFilter:   0%|          | 0/100 [00:00<?, ?it/s]"
      ]
     },
     "metadata": {},
     "output_type": "display_data"
    },
    {
     "name": "stderr",
     "output_type": "stream",
     "text": [
      "Node 0c9ba0af-7e5c-4d7c-98d8-c8060e849c2f does not have a summary. Skipping filtering.\n",
      "Node 2f203270-2bc7-4c95-920e-7c5c7e000d53 does not have a summary. Skipping filtering.\n",
      "Node 12f8d571-957c-4312-9aad-be55314b6c25 does not have a summary. Skipping filtering.\n",
      "Node 2552e4cb-040e-4031-a82c-d907e2b440b6 does not have a summary. Skipping filtering.\n",
      "Node 7943d0ba-6e36-4229-a6f0-44f1b991c217 does not have a summary. Skipping filtering.\n",
      "Node 32f316ef-4d8a-4e4a-9d96-e1b2f0ea31c4 does not have a summary. Skipping filtering.\n",
      "Node 8d3f3ba1-8455-4a0b-b173-1aaa6c9d4f6c does not have a summary. Skipping filtering.\n",
      "Node 61466774-ce75-461d-ab9a-9097d2130d26 does not have a summary. Skipping filtering.\n",
      "Node 755a6f16-48e4-42fd-be34-73eb1d517fba does not have a summary. Skipping filtering.\n",
      "Node 7e4339b0-0413-4886-8efc-dbd2759e68af does not have a summary. Skipping filtering.\n",
      "Node f3d30d68-8163-463b-9dc0-fd05f61c6f35 does not have a summary. Skipping filtering.\n",
      "Node 279cb417-5cca-44ba-b789-4dc1658434c7 does not have a summary. Skipping filtering.\n",
      "Node 7ca928a8-415b-4bba-98f2-5afd61710e9b does not have a summary. Skipping filtering.\n"
     ]
    },
    {
     "data": {
      "application/vnd.jupyter.widget-view+json": {
       "model_id": "9fd31d45bbb140a696b951dfb96bd66d",
       "version_major": 2,
       "version_minor": 0
      },
      "text/plain": [
       "Applying [EmbeddingExtractor, ThemesExtractor, NERExtractor]:   0%|          | 0/287 [00:00<?, ?it/s]"
      ]
     },
     "metadata": {},
     "output_type": "display_data"
    },
    {
     "data": {
      "application/vnd.jupyter.widget-view+json": {
       "model_id": "2ac19388294b4de1b4dca4b367a9d661",
       "version_major": 2,
       "version_minor": 0
      },
      "text/plain": [
       "Applying [CosineSimilarityBuilder, OverlapScoreBuilder]:   0%|          | 0/2 [00:00<?, ?it/s]"
      ]
     },
     "metadata": {},
     "output_type": "display_data"
    },
    {
     "data": {
      "application/vnd.jupyter.widget-view+json": {
       "model_id": "489a24e7f34e438e866101250c44d5f0",
       "version_major": 2,
       "version_minor": 0
      },
      "text/plain": [
       "Generating personas:   0%|          | 0/3 [00:00<?, ?it/s]"
      ]
     },
     "metadata": {},
     "output_type": "display_data"
    },
    {
     "data": {
      "application/vnd.jupyter.widget-view+json": {
       "model_id": "d3a4d290a9c84301bd2c17fa50604431",
       "version_major": 2,
       "version_minor": 0
      },
      "text/plain": [
       "Generating Scenarios:   0%|          | 0/3 [00:00<?, ?it/s]"
      ]
     },
     "metadata": {},
     "output_type": "display_data"
    },
    {
     "data": {
      "application/vnd.jupyter.widget-view+json": {
       "model_id": "524e63cfec764588810dff1fa1a573e8",
       "version_major": 2,
       "version_minor": 0
      },
      "text/plain": [
       "Generating Samples:   0%|          | 0/12 [00:00<?, ?it/s]"
      ]
     },
     "metadata": {},
     "output_type": "display_data"
    }
   ],
   "source": [
    "from ragas.testset import TestsetGenerator\n",
    "\n",
    "generator = TestsetGenerator(llm=generator_llm, embedding_model=generator_embeddings)\n",
    "ragas_dataset = generator.generate_with_langchain_docs(docs[:100], testset_size=10)"
   ]
  },
  {
   "cell_type": "code",
   "execution_count": 34,
   "id": "f6683c40",
   "metadata": {},
   "outputs": [
    {
     "data": {
      "text/html": [
       "<div>\n",
       "<style scoped>\n",
       "    .dataframe tbody tr th:only-of-type {\n",
       "        vertical-align: middle;\n",
       "    }\n",
       "\n",
       "    .dataframe tbody tr th {\n",
       "        vertical-align: top;\n",
       "    }\n",
       "\n",
       "    .dataframe thead th {\n",
       "        text-align: right;\n",
       "    }\n",
       "</style>\n",
       "<table border=\"1\" class=\"dataframe\">\n",
       "  <thead>\n",
       "    <tr style=\"text-align: right;\">\n",
       "      <th></th>\n",
       "      <th>user_input</th>\n",
       "      <th>reference_contexts</th>\n",
       "      <th>reference</th>\n",
       "      <th>synthesizer_name</th>\n",
       "    </tr>\n",
       "  </thead>\n",
       "  <tbody>\n",
       "    <tr>\n",
       "      <th>0</th>\n",
       "      <td>What is 2024 ODYSSEY?</td>\n",
       "      <td>[2024 ODYSSEY\\nOwner’s Manual]</td>\n",
       "      <td>2024 ODYSSEY is referenced in the Owner’s Manu...</td>\n",
       "      <td>single_hop_specifc_query_synthesizer</td>\n",
       "    </tr>\n",
       "    <tr>\n",
       "      <th>1</th>\n",
       "      <td>Can you tell me what an EDR is and how it help...</td>\n",
       "      <td>[Event Data Recorders\\nThis vehicle is equippe...</td>\n",
       "      <td>An EDR, or Event Data Recorder, is a device eq...</td>\n",
       "      <td>single_hop_specifc_query_synthesizer</td>\n",
       "    </tr>\n",
       "    <tr>\n",
       "      <th>2</th>\n",
       "      <td>Honda what do I need to check?</td>\n",
       "      <td>[These data can help provide a better understa...</td>\n",
       "      <td>The context provided does not contain specific...</td>\n",
       "      <td>single_hop_specifc_query_synthesizer</td>\n",
       "    </tr>\n",
       "    <tr>\n",
       "      <th>3</th>\n",
       "      <td>What role does Honda Automobile Customer Servi...</td>\n",
       "      <td>[Software End User License Agreement\\nYour veh...</td>\n",
       "      <td>Honda Automobile Customer Service is involved ...</td>\n",
       "      <td>single_hop_specifc_query_synthesizer</td>\n",
       "    </tr>\n",
       "    <tr>\n",
       "      <th>4</th>\n",
       "      <td>H0w do inflation pr0cess and saftey consideera...</td>\n",
       "      <td>[&lt;1-hop&gt;\\n\\n52\\nuuAirbagsuTypes of Airbags\\nSa...</td>\n",
       "      <td>The provided context discusses the different t...</td>\n",
       "      <td>multi_hop_abstract_query_synthesizer</td>\n",
       "    </tr>\n",
       "    <tr>\n",
       "      <th>5</th>\n",
       "      <td>Wht do I need to check for protection during s...</td>\n",
       "      <td>[&lt;1-hop&gt;\\n\\n66\\nuuAirbagsuAirbag Care\\nSafe Dr...</td>\n",
       "      <td>To ensure protection during a side impact, it ...</td>\n",
       "      <td>multi_hop_abstract_query_synthesizer</td>\n",
       "    </tr>\n",
       "    <tr>\n",
       "      <th>6</th>\n",
       "      <td>How do driver assistance functions like Honda ...</td>\n",
       "      <td>[&lt;1-hop&gt;\\n\\n28\\nQuick Reference Guide\\nHonda S...</td>\n",
       "      <td>Driver assistance functions such as Honda Sens...</td>\n",
       "      <td>multi_hop_abstract_query_synthesizer</td>\n",
       "    </tr>\n",
       "    <tr>\n",
       "      <th>7</th>\n",
       "      <td>How does the indicator light related to brake ...</td>\n",
       "      <td>[&lt;1-hop&gt;\\n\\n88\\nInstrument Panel\\nIndicators\\n...</td>\n",
       "      <td>The indicator light for low brake fluid level ...</td>\n",
       "      <td>multi_hop_abstract_query_synthesizer</td>\n",
       "    </tr>\n",
       "    <tr>\n",
       "      <th>8</th>\n",
       "      <td>how do driver and driver seatbelt system compo...</td>\n",
       "      <td>[&lt;1-hop&gt;\\n\\n21\\nQuick Reference Guide\\nFan Con...</td>\n",
       "      <td>The context describes various safety component...</td>\n",
       "      <td>multi_hop_specific_query_synthesizer</td>\n",
       "    </tr>\n",
       "    <tr>\n",
       "      <th>9</th>\n",
       "      <td>How do proper seat belt use and correct seatin...</td>\n",
       "      <td>[&lt;1-hop&gt;\\n\\n47\\nuuSeat BeltsuFastening a Seat ...</td>\n",
       "      <td>The safety inspector emphasizes that wearing s...</td>\n",
       "      <td>multi_hop_specific_query_synthesizer</td>\n",
       "    </tr>\n",
       "    <tr>\n",
       "      <th>10</th>\n",
       "      <td>How do the knee airbags deploy during safedriv...</td>\n",
       "      <td>[&lt;1-hop&gt;\\n\\n58\\nuuAirbagsuKnee Airbags\\nSafe D...</td>\n",
       "      <td>During safedriving, the driver’s and front pas...</td>\n",
       "      <td>multi_hop_specific_query_synthesizer</td>\n",
       "    </tr>\n",
       "    <tr>\n",
       "      <th>11</th>\n",
       "      <td>Based on the information about the steering wh...</td>\n",
       "      <td>[&lt;1-hop&gt;\\n\\n17\\nQuick Reference Guide\\nTurn Si...</td>\n",
       "      <td>Proper adjustment of the steering wheel, which...</td>\n",
       "      <td>multi_hop_specific_query_synthesizer</td>\n",
       "    </tr>\n",
       "  </tbody>\n",
       "</table>\n",
       "</div>"
      ],
      "text/plain": [
       "                                           user_input  \\\n",
       "0                               What is 2024 ODYSSEY?   \n",
       "1   Can you tell me what an EDR is and how it help...   \n",
       "2                      Honda what do I need to check?   \n",
       "3   What role does Honda Automobile Customer Servi...   \n",
       "4   H0w do inflation pr0cess and saftey consideera...   \n",
       "5   Wht do I need to check for protection during s...   \n",
       "6   How do driver assistance functions like Honda ...   \n",
       "7   How does the indicator light related to brake ...   \n",
       "8   how do driver and driver seatbelt system compo...   \n",
       "9   How do proper seat belt use and correct seatin...   \n",
       "10  How do the knee airbags deploy during safedriv...   \n",
       "11  Based on the information about the steering wh...   \n",
       "\n",
       "                                   reference_contexts  \\\n",
       "0                      [2024 ODYSSEY\\nOwner’s Manual]   \n",
       "1   [Event Data Recorders\\nThis vehicle is equippe...   \n",
       "2   [These data can help provide a better understa...   \n",
       "3   [Software End User License Agreement\\nYour veh...   \n",
       "4   [<1-hop>\\n\\n52\\nuuAirbagsuTypes of Airbags\\nSa...   \n",
       "5   [<1-hop>\\n\\n66\\nuuAirbagsuAirbag Care\\nSafe Dr...   \n",
       "6   [<1-hop>\\n\\n28\\nQuick Reference Guide\\nHonda S...   \n",
       "7   [<1-hop>\\n\\n88\\nInstrument Panel\\nIndicators\\n...   \n",
       "8   [<1-hop>\\n\\n21\\nQuick Reference Guide\\nFan Con...   \n",
       "9   [<1-hop>\\n\\n47\\nuuSeat BeltsuFastening a Seat ...   \n",
       "10  [<1-hop>\\n\\n58\\nuuAirbagsuKnee Airbags\\nSafe D...   \n",
       "11  [<1-hop>\\n\\n17\\nQuick Reference Guide\\nTurn Si...   \n",
       "\n",
       "                                            reference  \\\n",
       "0   2024 ODYSSEY is referenced in the Owner’s Manu...   \n",
       "1   An EDR, or Event Data Recorder, is a device eq...   \n",
       "2   The context provided does not contain specific...   \n",
       "3   Honda Automobile Customer Service is involved ...   \n",
       "4   The provided context discusses the different t...   \n",
       "5   To ensure protection during a side impact, it ...   \n",
       "6   Driver assistance functions such as Honda Sens...   \n",
       "7   The indicator light for low brake fluid level ...   \n",
       "8   The context describes various safety component...   \n",
       "9   The safety inspector emphasizes that wearing s...   \n",
       "10  During safedriving, the driver’s and front pas...   \n",
       "11  Proper adjustment of the steering wheel, which...   \n",
       "\n",
       "                        synthesizer_name  \n",
       "0   single_hop_specifc_query_synthesizer  \n",
       "1   single_hop_specifc_query_synthesizer  \n",
       "2   single_hop_specifc_query_synthesizer  \n",
       "3   single_hop_specifc_query_synthesizer  \n",
       "4   multi_hop_abstract_query_synthesizer  \n",
       "5   multi_hop_abstract_query_synthesizer  \n",
       "6   multi_hop_abstract_query_synthesizer  \n",
       "7   multi_hop_abstract_query_synthesizer  \n",
       "8   multi_hop_specific_query_synthesizer  \n",
       "9   multi_hop_specific_query_synthesizer  \n",
       "10  multi_hop_specific_query_synthesizer  \n",
       "11  multi_hop_specific_query_synthesizer  "
      ]
     },
     "execution_count": 34,
     "metadata": {},
     "output_type": "execute_result"
    }
   ],
   "source": [
    "ragas_dataset.to_pandas()\n"
   ]
  },
  {
   "cell_type": "code",
   "execution_count": 35,
   "id": "238f87f3",
   "metadata": {},
   "outputs": [],
   "source": [
    "\n",
    "from langchain_core.messages import AIMessage, BaseMessage\n",
    "from typing import List\n",
    "\n",
    "def extract_contexts_from_messages(messages: List[BaseMessage]) -> List[str]:\n",
    "    \"\"\"\n",
    "    Extracts the content from all AIMessages that served as context.\n",
    "    \n",
    "    In this agent, the 'Retrieval' and 'Search' nodes produce the context\n",
    "    used by the 'Writer' node. This function collects the content from the\n",
    "    messages produced by these nodes.\n",
    "    \"\"\"\n",
    "    contexts = []\n",
    "    for message in messages:\n",
    "        # We identify context messages by checking if they are AIMessages\n",
    "        # and if their 'name' attribute is either 'Retrieval' or 'Search'.\n",
    "        if isinstance(message, AIMessage) and hasattr(message, 'name') and message.name in [\"Retrieval\", \"Search\"]:\n",
    "            contexts.append(message.content)\n",
    "    return contexts\n",
    "    \n"
   ]
  },
  {
   "cell_type": "code",
   "execution_count": 36,
   "id": "a5232d46",
   "metadata": {},
   "outputs": [
    {
     "data": {
      "text/html": [
       "<div>\n",
       "<style scoped>\n",
       "    .dataframe tbody tr th:only-of-type {\n",
       "        vertical-align: middle;\n",
       "    }\n",
       "\n",
       "    .dataframe tbody tr th {\n",
       "        vertical-align: top;\n",
       "    }\n",
       "\n",
       "    .dataframe thead th {\n",
       "        text-align: right;\n",
       "    }\n",
       "</style>\n",
       "<table border=\"1\" class=\"dataframe\">\n",
       "  <thead>\n",
       "    <tr style=\"text-align: right;\">\n",
       "      <th></th>\n",
       "      <th>question</th>\n",
       "      <th>answer</th>\n",
       "      <th>contexts</th>\n",
       "      <th>ground_truth</th>\n",
       "    </tr>\n",
       "  </thead>\n",
       "  <tbody>\n",
       "    <tr>\n",
       "      <th>0</th>\n",
       "      <td>What is 2024 ODYSSEY?</td>\n",
       "      <td>The 2024 ODYSSEY refers to the latest model of...</td>\n",
       "      <td>[Retrieved context from documents:\\n\\n--- Docu...</td>\n",
       "      <td>2024 ODYSSEY is referenced in the Owner’s Manu...</td>\n",
       "    </tr>\n",
       "    <tr>\n",
       "      <th>1</th>\n",
       "      <td>Can you tell me what an EDR is and how it help...</td>\n",
       "      <td>An Event Data Recorder (EDR) is a device insta...</td>\n",
       "      <td>[Retrieved context from documents:\\n\\n--- Docu...</td>\n",
       "      <td>An EDR, or Event Data Recorder, is a device eq...</td>\n",
       "    </tr>\n",
       "    <tr>\n",
       "      <th>2</th>\n",
       "      <td>Honda what do I need to check?</td>\n",
       "      <td>When checking your Honda vehicle, here are the...</td>\n",
       "      <td>[Retrieved context from documents:\\n\\n--- Docu...</td>\n",
       "      <td>The context provided does not contain specific...</td>\n",
       "    </tr>\n",
       "    <tr>\n",
       "      <th>3</th>\n",
       "      <td>What role does Honda Automobile Customer Servi...</td>\n",
       "      <td>Honda Automobile Customer Service plays a cruc...</td>\n",
       "      <td>[Retrieved context from documents:\\n\\n--- Docu...</td>\n",
       "      <td>Honda Automobile Customer Service is involved ...</td>\n",
       "    </tr>\n",
       "    <tr>\n",
       "      <th>4</th>\n",
       "      <td>H0w do inflation pr0cess and saftey consideera...</td>\n",
       "      <td>The relationship between the inflation process...</td>\n",
       "      <td>[Retrieved context from documents:\\n\\n--- Docu...</td>\n",
       "      <td>The provided context discusses the different t...</td>\n",
       "    </tr>\n",
       "    <tr>\n",
       "      <th>5</th>\n",
       "      <td>Wht do I need to check for protection during s...</td>\n",
       "      <td>To ensure protection during a side impact, you...</td>\n",
       "      <td>[Retrieved context from documents:\\n\\n--- Docu...</td>\n",
       "      <td>To ensure protection during a side impact, it ...</td>\n",
       "    </tr>\n",
       "    <tr>\n",
       "      <th>6</th>\n",
       "      <td>How do driver assistance functions like Honda ...</td>\n",
       "      <td>Driver assistance functions like Honda Sensing...</td>\n",
       "      <td>[Retrieved context from documents:\\n\\n--- Docu...</td>\n",
       "      <td>Driver assistance functions such as Honda Sens...</td>\n",
       "    </tr>\n",
       "    <tr>\n",
       "      <th>7</th>\n",
       "      <td>How does the indicator light related to brake ...</td>\n",
       "      <td>The indicator light related to brake fluid lev...</td>\n",
       "      <td>[Retrieved context from documents:\\n\\n--- Docu...</td>\n",
       "      <td>The indicator light for low brake fluid level ...</td>\n",
       "    </tr>\n",
       "    <tr>\n",
       "      <th>8</th>\n",
       "      <td>how do driver and driver seatbelt system compo...</td>\n",
       "      <td>The driver and driver seatbelt system componen...</td>\n",
       "      <td>[Retrieved context from documents:\\n\\n--- Docu...</td>\n",
       "      <td>The context describes various safety component...</td>\n",
       "    </tr>\n",
       "    <tr>\n",
       "      <th>9</th>\n",
       "      <td>How do proper seat belt use and correct seatin...</td>\n",
       "      <td>Proper seat belt use and correct seating posit...</td>\n",
       "      <td>[Retrieved context from documents:\\n\\n--- Docu...</td>\n",
       "      <td>The safety inspector emphasizes that wearing s...</td>\n",
       "    </tr>\n",
       "    <tr>\n",
       "      <th>10</th>\n",
       "      <td>How do the knee airbags deploy during safedriv...</td>\n",
       "      <td>Knee airbags deploy in response to sudden dece...</td>\n",
       "      <td>[Retrieved context from documents:\\n\\n--- Docu...</td>\n",
       "      <td>During safedriving, the driver’s and front pas...</td>\n",
       "    </tr>\n",
       "    <tr>\n",
       "      <th>11</th>\n",
       "      <td>Based on the information about the steering wh...</td>\n",
       "      <td>Proper adjustment of the steering wheel is cru...</td>\n",
       "      <td>[Retrieved context from documents:\\n\\n--- Docu...</td>\n",
       "      <td>Proper adjustment of the steering wheel, which...</td>\n",
       "    </tr>\n",
       "  </tbody>\n",
       "</table>\n",
       "</div>"
      ],
      "text/plain": [
       "                                             question  \\\n",
       "0                               What is 2024 ODYSSEY?   \n",
       "1   Can you tell me what an EDR is and how it help...   \n",
       "2                      Honda what do I need to check?   \n",
       "3   What role does Honda Automobile Customer Servi...   \n",
       "4   H0w do inflation pr0cess and saftey consideera...   \n",
       "5   Wht do I need to check for protection during s...   \n",
       "6   How do driver assistance functions like Honda ...   \n",
       "7   How does the indicator light related to brake ...   \n",
       "8   how do driver and driver seatbelt system compo...   \n",
       "9   How do proper seat belt use and correct seatin...   \n",
       "10  How do the knee airbags deploy during safedriv...   \n",
       "11  Based on the information about the steering wh...   \n",
       "\n",
       "                                               answer  \\\n",
       "0   The 2024 ODYSSEY refers to the latest model of...   \n",
       "1   An Event Data Recorder (EDR) is a device insta...   \n",
       "2   When checking your Honda vehicle, here are the...   \n",
       "3   Honda Automobile Customer Service plays a cruc...   \n",
       "4   The relationship between the inflation process...   \n",
       "5   To ensure protection during a side impact, you...   \n",
       "6   Driver assistance functions like Honda Sensing...   \n",
       "7   The indicator light related to brake fluid lev...   \n",
       "8   The driver and driver seatbelt system componen...   \n",
       "9   Proper seat belt use and correct seating posit...   \n",
       "10  Knee airbags deploy in response to sudden dece...   \n",
       "11  Proper adjustment of the steering wheel is cru...   \n",
       "\n",
       "                                             contexts  \\\n",
       "0   [Retrieved context from documents:\\n\\n--- Docu...   \n",
       "1   [Retrieved context from documents:\\n\\n--- Docu...   \n",
       "2   [Retrieved context from documents:\\n\\n--- Docu...   \n",
       "3   [Retrieved context from documents:\\n\\n--- Docu...   \n",
       "4   [Retrieved context from documents:\\n\\n--- Docu...   \n",
       "5   [Retrieved context from documents:\\n\\n--- Docu...   \n",
       "6   [Retrieved context from documents:\\n\\n--- Docu...   \n",
       "7   [Retrieved context from documents:\\n\\n--- Docu...   \n",
       "8   [Retrieved context from documents:\\n\\n--- Docu...   \n",
       "9   [Retrieved context from documents:\\n\\n--- Docu...   \n",
       "10  [Retrieved context from documents:\\n\\n--- Docu...   \n",
       "11  [Retrieved context from documents:\\n\\n--- Docu...   \n",
       "\n",
       "                                         ground_truth  \n",
       "0   2024 ODYSSEY is referenced in the Owner’s Manu...  \n",
       "1   An EDR, or Event Data Recorder, is a device eq...  \n",
       "2   The context provided does not contain specific...  \n",
       "3   Honda Automobile Customer Service is involved ...  \n",
       "4   The provided context discusses the different t...  \n",
       "5   To ensure protection during a side impact, it ...  \n",
       "6   Driver assistance functions such as Honda Sens...  \n",
       "7   The indicator light for low brake fluid level ...  \n",
       "8   The context describes various safety component...  \n",
       "9   The safety inspector emphasizes that wearing s...  \n",
       "10  During safedriving, the driver’s and front pas...  \n",
       "11  Proper adjustment of the steering wheel, which...  "
      ]
     },
     "execution_count": 36,
     "metadata": {},
     "output_type": "execute_result"
    }
   ],
   "source": [
    "from langchain_core.messages import HumanMessage\n",
    "from datasets import Dataset\n",
    "import pandas as pd\n",
    "\n",
    "# Convert the ragas testset to a pandas DataFrame to iterate over it\n",
    "test_df = ragas_dataset.to_pandas()\n",
    "\n",
    "results_list = []\n",
    "\n",
    "# Iterate over each question in the test set\n",
    "for index, row in test_df.iterrows():\n",
    "    # As you correctly pointed out, the question from the Ragas TestsetGenerator\n",
    "    # is in the 'user_input' column.\n",
    "    question = row[\"user_input\"]\n",
    "    \n",
    "    # Run the agent to get the answer and the context used\n",
    "    inputs = {\"messages\": [HumanMessage(content=question)]}\n",
    "    response = compiled_graph.invoke(inputs, {\"recursion_limit\": 100})\n",
    "    \n",
    "    # The final answer is the content of the last message from the Writer node\n",
    "    answer = response[\"messages\"][-1].content\n",
    "    \n",
    "    # The context is all the information gathered by the Retrieval and Search nodes.\n",
    "    contexts = extract_contexts_from_messages(response[\"messages\"])\n",
    "    \n",
    "    # The Ragas evaluate function expects a 'ground_truth' column.\n",
    "    # From your output, the generated ground truth is in the 'reference' column.\n",
    "    results_list.append(\n",
    "        {\n",
    "            \"question\": question,\n",
    "            \"answer\": answer,\n",
    "            \"contexts\": contexts,\n",
    "            \"ground_truth\": row[\"reference\"], \n",
    "        }\n",
    "    )\n",
    "\n",
    "# Create a new Hugging Face Dataset from our results\n",
    "# This is the format Ragas expects for evaluation\n",
    "eval_dataset = Dataset.from_list(results_list)\n",
    "\n",
    "# Display the first few rows to verify the final structure\n",
    "pd.DataFrame(eval_dataset)\n"
   ]
  },
  {
   "cell_type": "code",
   "execution_count": 37,
   "id": "726e5a73",
   "metadata": {},
   "outputs": [],
   "source": [
    "from ragas import evaluate\n",
    "from ragas.llms import LangchainLLMWrapper\n",
    "\n",
    "evaluator_llm = LangchainLLMWrapper(ChatOpenAI(model=\"gpt-4.1\"))"
   ]
  },
  {
   "cell_type": "code",
   "execution_count": 38,
   "id": "24783da4",
   "metadata": {},
   "outputs": [
    {
     "data": {
      "application/vnd.jupyter.widget-view+json": {
       "model_id": "544d743d5f714310ba72b057fb9279e3",
       "version_major": 2,
       "version_minor": 0
      },
      "text/plain": [
       "Evaluating:   0%|          | 0/72 [00:00<?, ?it/s]"
      ]
     },
     "metadata": {},
     "output_type": "display_data"
    },
    {
     "data": {
      "text/plain": [
       "{'context_recall': 0.7111, 'faithfulness': 0.7682, 'factual_correctness(mode=f1)': 0.3283, 'answer_relevancy': 0.9420, 'context_entity_recall': 0.2098, 'noise_sensitivity(mode=relevant)': 0.4966}"
      ]
     },
     "execution_count": 38,
     "metadata": {},
     "output_type": "execute_result"
    }
   ],
   "source": [
    "from ragas.metrics import LLMContextRecall, Faithfulness, FactualCorrectness, ResponseRelevancy, ContextEntityRecall, NoiseSensitivity\n",
    "from ragas import evaluate, RunConfig\n",
    "\n",
    "custom_run_config = RunConfig(timeout=360, max_workers=1)\n",
    "\n",
    "result = evaluate(\n",
    "        dataset=eval_dataset,\n",
    "        metrics=[LLMContextRecall(), Faithfulness(), FactualCorrectness(), ResponseRelevancy(), ContextEntityRecall(), NoiseSensitivity()],\n",
    "        llm=evaluator_llm,\n",
    "        run_config=custom_run_config\n",
    "    )\n",
    "\n",
    "result"
   ]
  },
  {
   "cell_type": "markdown",
   "id": "ec42814a",
   "metadata": {},
   "source": [
    "### Let's test the compression retrieval"
   ]
  },
  {
   "cell_type": "code",
   "execution_count": 39,
   "id": "ff91a6dc",
   "metadata": {},
   "outputs": [],
   "source": [
    "compression_graph_builder = StateGraph(RetrievalState)\n",
    "compression_graph_builder = compression_graph_builder.add_sequence([compression_retrieve])\n",
    "compression_graph_builder.add_edge(START, \"compression_retrieve\")\n",
    "compression_retrieval_graph = compression_graph_builder.compile()\n"
   ]
  },
  {
   "cell_type": "code",
   "execution_count": 40,
   "id": "24f89580",
   "metadata": {},
   "outputs": [],
   "source": [
    "comp_graph = StateGraph(RetrievalState)\n",
    "\n",
    "# Add nodes\n",
    "comp_graph.add_node(\"Retrieve\", compression_retrieve)\n",
    "comp_graph.add_node(\"Router\", router_node)\n",
    "comp_graph.add_node(\"Search\", search_node)\n",
    "comp_graph.add_node(\"Writer\", writer_node)\n",
    "\n",
    "# Set entry point\n",
    "comp_graph.set_entry_point(\"Retrieve\")\n",
    "\n",
    "# Add edges\n",
    "comp_graph.add_edge(\"Retrieve\", \"Router\")\n",
    "comp_graph.add_conditional_edges(\n",
    "    \"Router\",\n",
    "    lambda x: x[\"next\"],\n",
    "    {\n",
    "        \"Search\": \"Search\",\n",
    "        \"Writer\": \"Writer\",\n",
    "    }\n",
    ")\n",
    "comp_graph.add_edge(\"Search\", \"Writer\")\n",
    "comp_graph.add_edge(\"Writer\", END)\n",
    "\n",
    "# Compile\n",
    "compiled_comp_graph = comp_graph.compile()"
   ]
  },
  {
   "cell_type": "code",
   "execution_count": 41,
   "id": "5e0d28c6",
   "metadata": {},
   "outputs": [
    {
     "data": {
      "image/png": "[encoded data removed]",
      "text/plain": [
       "<IPython.core.display.Image object>"
      ]
     },
     "metadata": {},
     "output_type": "display_data"
    }
   ],
   "source": [
    "import nest_asyncio\n",
    "nest_asyncio.apply()\n",
    "\n",
    "from IPython.display import Image, display\n",
    "from langchain_core.runnables.graph import CurveStyle, MermaidDrawMethod, NodeStyles\n",
    "\n",
    "display(\n",
    "    Image(\n",
    "        compiled_comp_graph.get_graph().draw_mermaid_png(\n",
    "            curve_style=CurveStyle.LINEAR,\n",
    "            node_colors=NodeStyles(first=\"#ffdfba\", last=\"#baffc9\", default=\"#fad7de\"),\n",
    "            wrap_label_n_words=9,\n",
    "            output_file_path=None,\n",
    "            draw_method=MermaidDrawMethod.PYPPETEER,\n",
    "            background_color=\"white\",\n",
    "            padding=10,\n",
    "        )\n",
    "    )\n",
    ")"
   ]
  },
  {
   "cell_type": "code",
   "execution_count": 42,
   "id": "2b6da783",
   "metadata": {},
   "outputs": [
    {
     "data": {
      "text/html": [
       "<div>\n",
       "<style scoped>\n",
       "    .dataframe tbody tr th:only-of-type {\n",
       "        vertical-align: middle;\n",
       "    }\n",
       "\n",
       "    .dataframe tbody tr th {\n",
       "        vertical-align: top;\n",
       "    }\n",
       "\n",
       "    .dataframe thead th {\n",
       "        text-align: right;\n",
       "    }\n",
       "</style>\n",
       "<table border=\"1\" class=\"dataframe\">\n",
       "  <thead>\n",
       "    <tr style=\"text-align: right;\">\n",
       "      <th></th>\n",
       "      <th>question</th>\n",
       "      <th>answer</th>\n",
       "      <th>contexts</th>\n",
       "      <th>ground_truth</th>\n",
       "    </tr>\n",
       "  </thead>\n",
       "  <tbody>\n",
       "    <tr>\n",
       "      <th>0</th>\n",
       "      <td>What is 2024 ODYSSEY?</td>\n",
       "      <td>The 2024 ODYSSEY refers to the latest model of...</td>\n",
       "      <td>[Retrieved context from documents:\\n\\n--- Docu...</td>\n",
       "      <td>2024 ODYSSEY is referenced in the Owner’s Manu...</td>\n",
       "    </tr>\n",
       "    <tr>\n",
       "      <th>1</th>\n",
       "      <td>Can you tell me what an EDR is and how it help...</td>\n",
       "      <td>An Event Data Recorder (EDR) is a device insta...</td>\n",
       "      <td>[Retrieved context from documents:\\n\\n--- Docu...</td>\n",
       "      <td>An EDR, or Event Data Recorder, is a device eq...</td>\n",
       "    </tr>\n",
       "    <tr>\n",
       "      <th>2</th>\n",
       "      <td>Honda what do I need to check?</td>\n",
       "      <td>When checking your Honda vehicle, here are the...</td>\n",
       "      <td>[Retrieved context from documents:\\n\\n--- Docu...</td>\n",
       "      <td>The context provided does not contain specific...</td>\n",
       "    </tr>\n",
       "    <tr>\n",
       "      <th>3</th>\n",
       "      <td>What role does Honda Automobile Customer Servi...</td>\n",
       "      <td>Honda Automobile Customer Service plays a cruc...</td>\n",
       "      <td>[Retrieved context from documents:\\n\\n--- Docu...</td>\n",
       "      <td>Honda Automobile Customer Service is involved ...</td>\n",
       "    </tr>\n",
       "    <tr>\n",
       "      <th>4</th>\n",
       "      <td>H0w do inflation pr0cess and saftey consideera...</td>\n",
       "      <td>The relationship between the inflation process...</td>\n",
       "      <td>[Retrieved context from documents:\\n\\n--- Docu...</td>\n",
       "      <td>The provided context discusses the different t...</td>\n",
       "    </tr>\n",
       "    <tr>\n",
       "      <th>5</th>\n",
       "      <td>Wht do I need to check for protection during s...</td>\n",
       "      <td>To ensure protection during a side impact, you...</td>\n",
       "      <td>[Retrieved context from documents:\\n\\n--- Docu...</td>\n",
       "      <td>To ensure protection during a side impact, it ...</td>\n",
       "    </tr>\n",
       "    <tr>\n",
       "      <th>6</th>\n",
       "      <td>How do driver assistance functions like Honda ...</td>\n",
       "      <td>Driver assistance functions like Honda Sensing...</td>\n",
       "      <td>[Retrieved context from documents:\\n\\n--- Docu...</td>\n",
       "      <td>Driver assistance functions such as Honda Sens...</td>\n",
       "    </tr>\n",
       "    <tr>\n",
       "      <th>7</th>\n",
       "      <td>How does the indicator light related to brake ...</td>\n",
       "      <td>The indicator light related to brake fluid lev...</td>\n",
       "      <td>[Retrieved context from documents:\\n\\n--- Docu...</td>\n",
       "      <td>The indicator light for low brake fluid level ...</td>\n",
       "    </tr>\n",
       "    <tr>\n",
       "      <th>8</th>\n",
       "      <td>how do driver and driver seatbelt system compo...</td>\n",
       "      <td>The driver and driver seatbelt system componen...</td>\n",
       "      <td>[Retrieved context from documents:\\n\\n--- Docu...</td>\n",
       "      <td>The context describes various safety component...</td>\n",
       "    </tr>\n",
       "    <tr>\n",
       "      <th>9</th>\n",
       "      <td>How do proper seat belt use and correct seatin...</td>\n",
       "      <td>Proper seat belt use and correct seating posit...</td>\n",
       "      <td>[Retrieved context from documents:\\n\\n--- Docu...</td>\n",
       "      <td>The safety inspector emphasizes that wearing s...</td>\n",
       "    </tr>\n",
       "    <tr>\n",
       "      <th>10</th>\n",
       "      <td>How do the knee airbags deploy during safedriv...</td>\n",
       "      <td>Knee airbags deploy in response to sudden dece...</td>\n",
       "      <td>[Retrieved context from documents:\\n\\n--- Docu...</td>\n",
       "      <td>During safedriving, the driver’s and front pas...</td>\n",
       "    </tr>\n",
       "    <tr>\n",
       "      <th>11</th>\n",
       "      <td>Based on the information about the steering wh...</td>\n",
       "      <td>Proper adjustment of the steering wheel is cru...</td>\n",
       "      <td>[Retrieved context from documents:\\n\\n--- Docu...</td>\n",
       "      <td>Proper adjustment of the steering wheel, which...</td>\n",
       "    </tr>\n",
       "  </tbody>\n",
       "</table>\n",
       "</div>"
      ],
      "text/plain": [
       "                                             question  \\\n",
       "0                               What is 2024 ODYSSEY?   \n",
       "1   Can you tell me what an EDR is and how it help...   \n",
       "2                      Honda what do I need to check?   \n",
       "3   What role does Honda Automobile Customer Servi...   \n",
       "4   H0w do inflation pr0cess and saftey consideera...   \n",
       "5   Wht do I need to check for protection during s...   \n",
       "6   How do driver assistance functions like Honda ...   \n",
       "7   How does the indicator light related to brake ...   \n",
       "8   how do driver and driver seatbelt system compo...   \n",
       "9   How do proper seat belt use and correct seatin...   \n",
       "10  How do the knee airbags deploy during safedriv...   \n",
       "11  Based on the information about the steering wh...   \n",
       "\n",
       "                                               answer  \\\n",
       "0   The 2024 ODYSSEY refers to the latest model of...   \n",
       "1   An Event Data Recorder (EDR) is a device insta...   \n",
       "2   When checking your Honda vehicle, here are the...   \n",
       "3   Honda Automobile Customer Service plays a cruc...   \n",
       "4   The relationship between the inflation process...   \n",
       "5   To ensure protection during a side impact, you...   \n",
       "6   Driver assistance functions like Honda Sensing...   \n",
       "7   The indicator light related to brake fluid lev...   \n",
       "8   The driver and driver seatbelt system componen...   \n",
       "9   Proper seat belt use and correct seating posit...   \n",
       "10  Knee airbags deploy in response to sudden dece...   \n",
       "11  Proper adjustment of the steering wheel is cru...   \n",
       "\n",
       "                                             contexts  \\\n",
       "0   [Retrieved context from documents:\\n\\n--- Docu...   \n",
       "1   [Retrieved context from documents:\\n\\n--- Docu...   \n",
       "2   [Retrieved context from documents:\\n\\n--- Docu...   \n",
       "3   [Retrieved context from documents:\\n\\n--- Docu...   \n",
       "4   [Retrieved context from documents:\\n\\n--- Docu...   \n",
       "5   [Retrieved context from documents:\\n\\n--- Docu...   \n",
       "6   [Retrieved context from documents:\\n\\n--- Docu...   \n",
       "7   [Retrieved context from documents:\\n\\n--- Docu...   \n",
       "8   [Retrieved context from documents:\\n\\n--- Docu...   \n",
       "9   [Retrieved context from documents:\\n\\n--- Docu...   \n",
       "10  [Retrieved context from documents:\\n\\n--- Docu...   \n",
       "11  [Retrieved context from documents:\\n\\n--- Docu...   \n",
       "\n",
       "                                         ground_truth  \n",
       "0   2024 ODYSSEY is referenced in the Owner’s Manu...  \n",
       "1   An EDR, or Event Data Recorder, is a device eq...  \n",
       "2   The context provided does not contain specific...  \n",
       "3   Honda Automobile Customer Service is involved ...  \n",
       "4   The provided context discusses the different t...  \n",
       "5   To ensure protection during a side impact, it ...  \n",
       "6   Driver assistance functions such as Honda Sens...  \n",
       "7   The indicator light for low brake fluid level ...  \n",
       "8   The context describes various safety component...  \n",
       "9   The safety inspector emphasizes that wearing s...  \n",
       "10  During safedriving, the driver’s and front pas...  \n",
       "11  Proper adjustment of the steering wheel, which...  "
      ]
     },
     "execution_count": 42,
     "metadata": {},
     "output_type": "execute_result"
    }
   ],
   "source": [
    "from langchain_core.messages import HumanMessage\n",
    "from datasets import Dataset\n",
    "import pandas as pd\n",
    "\n",
    "# Convert the ragas testset to a pandas DataFrame to iterate over it\n",
    "test_df = ragas_dataset.to_pandas()\n",
    "\n",
    "results_list = []\n",
    "\n",
    "# Iterate over each question in the test set\n",
    "for index, row in test_df.iterrows():\n",
    "    # As you correctly pointed out, the question from the Ragas TestsetGenerator\n",
    "    # is in the 'user_input' column.\n",
    "    question = row[\"user_input\"]\n",
    "    \n",
    "    # Run the agent to get the answer and the context used\n",
    "    inputs = {\"messages\": [HumanMessage(content=question)]}\n",
    "    response = compiled_comp_graph.invoke(inputs, {\"recursion_limit\": 100})\n",
    "    \n",
    "    # The final answer is the content of the last message from the Writer node\n",
    "    answer = response[\"messages\"][-1].content\n",
    "    \n",
    "    # The context is all the information gathered by the Retrieval and Search nodes.\n",
    "    contexts = extract_contexts_from_messages(response[\"messages\"])\n",
    "    \n",
    "    # The Ragas evaluate function expects a 'ground_truth' column.\n",
    "    # From your output, the generated ground truth is in the 'reference' column.\n",
    "    results_list.append(\n",
    "        {\n",
    "            \"question\": question,\n",
    "            \"answer\": answer,\n",
    "            \"contexts\": contexts,\n",
    "            \"ground_truth\": row[\"reference\"], \n",
    "        }\n",
    "    )\n",
    "\n",
    "# Create a new Hugging Face Dataset from our results\n",
    "# This is the format Ragas expects for evaluation\n",
    "comp_eval_dataset = Dataset.from_list(results_list)\n",
    "\n",
    "# Display the first few rows to verify the final structure\n",
    "pd.DataFrame(comp_eval_dataset)\n"
   ]
  },
  {
   "cell_type": "code",
   "execution_count": 43,
   "id": "54ae6165",
   "metadata": {},
   "outputs": [
    {
     "data": {
      "application/vnd.jupyter.widget-view+json": {
       "model_id": "380abe67a209444582687029a0edc6d8",
       "version_major": 2,
       "version_minor": 0
      },
      "text/plain": [
       "Evaluating:   0%|          | 0/72 [00:00<?, ?it/s]"
      ]
     },
     "metadata": {},
     "output_type": "display_data"
    },
    {
     "data": {
      "text/plain": [
       "{'context_recall': 0.6833, 'faithfulness': 0.7699, 'factual_correctness(mode=f1)': 0.3325, 'answer_relevancy': 0.9340, 'context_entity_recall': 0.1582, 'noise_sensitivity(mode=relevant)': 0.4962}"
      ]
     },
     "execution_count": 43,
     "metadata": {},
     "output_type": "execute_result"
    }
   ],
   "source": [
    "comp_result = evaluate(\n",
    "        dataset=comp_eval_dataset,\n",
    "        metrics=[LLMContextRecall(), Faithfulness(), FactualCorrectness(), ResponseRelevancy(), ContextEntityRecall(), NoiseSensitivity()],\n",
    "        llm=evaluator_llm,\n",
    "        run_config=custom_run_config\n",
    "    )\n",
    "\n",
    "comp_result"
   ]
  },
  {
   "cell_type": "markdown",
   "id": "66e8025b",
   "metadata": {},
   "source": [
    "### Let's compare the two retrieval strategies"
   ]
  },
  {
   "cell_type": "code",
   "execution_count": 51,
   "id": "5543055c",
   "metadata": {},
   "outputs": [
    {
     "name": "stdout",
     "output_type": "stream",
     "text": [
      "Comparing the following columns: ['answer_relevancy', 'context_entity_recall', 'context_recall', 'factual_correctness(mode=f1)', 'faithfulness', 'noise_sensitivity(mode=relevant)', 'reference', 'response', 'retrieved_contexts', 'user_input']\n",
      "\n",
      "Metric Deltas (Compression vs. Naive Retrieval):\n",
      "answer_relevancy: -0.0080\n",
      "context_entity_recall: -0.0516\n",
      "context_recall: -0.0278\n",
      "factual_correctness(mode=f1): +0.0042\n",
      "faithfulness: +0.0016\n",
      "noise_sensitivity(mode=relevant): -0.0004\n"
     ]
    }
   ],
   "source": [
    "import pandas as pd\n",
    "from ragas.evaluation import EvaluationResult\n",
    "\n",
    "def calculate_metric_delta(\n",
    "    run1: EvaluationResult, \n",
    "    run2: EvaluationResult\n",
    ") -> dict:\n",
    "    \"\"\"\n",
    "    Calculate the delta between the average scores of two ragas evaluation runs.\n",
    "    A positive delta means run2 scored higher on average than run1.\n",
    "\n",
    "    Args:\n",
    "        run1 (EvaluationResult): First evaluation run result from the naive retriever.\n",
    "        run2 (EvaluationResult): Second evaluation run result from the compression retriever.\n",
    "\n",
    "    Returns:\n",
    "        dict: A dictionary with metric names as keys and their calculated deltas as values.\n",
    "    \"\"\"\n",
    "    delta = {}\n",
    "    \n",
    "    # Convert the results to pandas DataFrames for robust access\n",
    "    df1 = run1.to_pandas()\n",
    "    df2 = run2.to_pandas()\n",
    "    \n",
    "    # Identify common columns between the two dataframes\n",
    "    common_cols = sorted(list(set(df1.columns).intersection(set(df2.columns))))\n",
    "    \n",
    "    print(f\"Comparing the following columns: {common_cols}\")\n",
    "    \n",
    "    # Iterate through common columns and calculate delta for numeric ones\n",
    "    for metric_name in common_cols:\n",
    "        # Check if the column is numeric in both DataFrames before calculating mean\n",
    "        if pd.api.types.is_numeric_dtype(df1[metric_name]) and pd.api.types.is_numeric_dtype(df2[metric_name]):\n",
    "            # Calculate the mean from the DataFrame column\n",
    "            avg_score1 = df1[metric_name].mean()\n",
    "            avg_score2 = df2[metric_name].mean()\n",
    "            \n",
    "            # Calculate the difference and round it\n",
    "            delta[metric_name] = round(avg_score2 - avg_score1, 4)\n",
    "\n",
    "    return delta\n",
    "\n",
    "# The function now discovers metric names from the result objects directly.\n",
    "delta = calculate_metric_delta(result, comp_result)\n",
    "\n",
    "# Print results\n",
    "print(\"\\nMetric Deltas (Compression vs. Naive Retrieval):\")\n",
    "# Sorting items for consistent output\n",
    "for metric, value in sorted(delta.items()):\n",
    "    print(f\"{metric}: {value:+.4f}\")"
   ]
  }
 ],
 "metadata": {
  "kernelspec": {
   "display_name": "ManualAIze (uv)",
   "language": "python",
   "name": "manualaize"
  },
  "language_info": {
   "codemirror_mode": {
    "name": "ipython",
    "version": 3
   },
   "file_extension": ".py",
   "mimetype": "text/x-python",
   "name": "python",
   "nbconvert_exporter": "python",
   "pygments_lexer": "ipython3",
   "version": "3.13.5"
  }
 },
 "nbformat": 4,
 "nbformat_minor": 5
}

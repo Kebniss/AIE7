{
 "cells": [
  {
   "cell_type": "markdown",
   "id": "d98066ed",
   "metadata": {},
   "source": [
    "# ManualAIze development"
   ]
  },
  {
   "cell_type": "code",
   "execution_count": null,
   "id": "96698148",
   "metadata": {},
   "outputs": [],
   "source": [
    "import os\n",
    "import getpass\n",
    "\n",
    "os.environ[\"OPENAI_API_KEY\"] = getpass.getpass(\"OpenAI API Key:\")"
   ]
  },
  {
   "cell_type": "code",
   "execution_count": null,
   "id": "8fa9b020",
   "metadata": {},
   "outputs": [],
   "source": []
  }
 ],
 "metadata": {
  "kernelspec": {
   "display_name": "Python 3",
   "language": "python",
   "name": "python3"
  },
  "language_info": {
   "name": "python",
   "version": "3.13.5"
  }
 },
 "nbformat": 4,
 "nbformat_minor": 5
}

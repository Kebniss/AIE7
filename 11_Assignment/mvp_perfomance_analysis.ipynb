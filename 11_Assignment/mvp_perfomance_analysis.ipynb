{
 "cells": [
  {
   "cell_type": "markdown",
   "id": "fdfadb4c",
   "metadata": {},
   "source": [
    "# Performance analysis\n",
    "Here we want to build the MVP graph and test it against synthetic golden data."
   ]
  },
  {
   "cell_type": "code",
   "execution_count": 1,
   "id": "ac927bf3",
   "metadata": {},
   "outputs": [],
   "source": [
    "import sys\n",
    "sys.path.append('..') "
   ]
  },
  {
   "cell_type": "code",
   "execution_count": 2,
   "id": "5d022414",
   "metadata": {},
   "outputs": [
    {
     "name": "stderr",
     "output_type": "stream",
     "text": [
      "/Users/ludovicagonella/code/AIE7/11_Assignment/backend/app/graph/tools.py:9: LangChainDeprecationWarning: The class `TavilySearchResults` was deprecated in LangChain 0.3.25 and will be removed in 1.0. An updated version of the class exists in the :class:`~langchain-tavily package and should be used instead. To use it run `pip install -U :class:`~langchain-tavily` and import as `from :class:`~langchain_tavily import TavilySearch``.\n",
      "  tavily_tool = TavilySearchResults(max_results=5)\n"
     ]
    }
   ],
   "source": [
    "from backend.app.graph.builder import create_graph\n",
    "from langchain_core.messages import HumanMessage"
   ]
  },
  {
   "cell_type": "code",
   "execution_count": 3,
   "id": "d16cd09a",
   "metadata": {},
   "outputs": [],
   "source": [
    "# This will load the PDFs from the `data` directory and create the full agent\n",
    "app = create_graph()"
   ]
  },
  {
   "cell_type": "code",
   "execution_count": 7,
   "id": "01c68742",
   "metadata": {},
   "outputs": [
    {
     "name": "stdout",
     "output_type": "stream",
     "text": [
      "--- Starting Retrieval Node ---\n",
      "Retrieving documents for question: What are the front facing height and weight limits for the car seat?\n",
      "--- Finished Retrieving Documents in 0.49s ---\n",
      "--- Finished Retrieval Node ---\n",
      "Output from node 'Retrieve':\n",
      "  - Messages: [HumanMessage(content='Retrieval agent responding:', additional_kwargs={}, response_metadata={}), AIMessage(content='Retrieved context from documents:\\\\n\\\\n--- Document 1 ---\\\\n15\\n  When Using This Car Seat \\nin Forward-Facing Mode\\nP Child’s weight is between 22 and 65 lb \\n(10 and 29.5 kg).\\nP Child’s height is between 30 and 49 in. \\n(76 and 124 cm).\\nP Child is at least 1 year of age.\\nP Car seat is securely installed in a rear \\nvehicle seating position using either the \\nrigid LATCH Connectors and the Top \\nTether; the vehicle belt and Top Tether; or \\nthe rigid LATCH Connectors, the vehicle \\nbelt, and the Top Tether.\\nNOTE: If child weighs more than 35 lb \\n(15.9 kg), this car seat must be installed \\neither with the vehicle belt and the Top \\nTether or with the rigid LATCH lower \\nconnectors, the vehicle belt, and the \\nTop Tether. \\nP Car Seat is properly assembled with  \\nthe headrest properly secured. The  \\nRear-Facing Base and Anti-Rebound  \\nBar must be removed when using seat \\nForward-Facing.\\\\n\\\\n--- Document 2 ---\\\\non product labels and in this\\nmanual and in your vehicle\\nowner’s manual before installing\\nor using this car seat.\\n• Failure to properly install or use\\nthis car seat or follow these\\nwarnings and those on this car\\nseat’s labels can result in serious\\ninjury or death to the child\\nin a sharp turn, sudden stop or\\ncrash.\\nC01-0602-G1-US\\nFoonf Instruction Manual\\nThis car seat is designed for use either Rear-Facing or Forward-Facing by children who meet\\nall of the following requirements:\\nHEIGHT WEIGHT AGE\\n25 – 43 in.\\n64 – 110 cm\\n14–5 0l b\\n6.4 – 22.7 kg\\nAble to sit\\nupright alone\\nHEIGHT WEIGHT AGE\\n30 – 49 in.\\n76–1 24 cm\\n22 – 65 lb\\n10–2 9.5 kg\\n2+ years\\nrecommended\\n(1 year min.)\\nFebruary 2024\\nFO24USG1\\n39\\n38\\n36\\\\n\\\\n--- Document 3 ---\\\\nWARNING\\n• Read and understand all \\ninformation and instructions \\non product labels and in this \\nmanual and in your vehicle \\nowner’s manual before installing \\nor using this car seat.\\n• Failure to properly install or \\nuse this car seat or follow these \\nwarnings and those on this car \\nseat’s labels can result in serious \\ninjury or death to the child \\nin a sharp turn, sudden stop \\nor crash.\\nC01-0602-G1-US\\nFoonf Instruction Manual\\nThis car seat is designed for use either Rear-Facing or Forward-Facing by children who meet \\nall of the following requirements:\\nHEIGHT WEIGHT AGE\\n25 – 43 in.\\n64 – 110 cm\\n14 – 50 lb\\n6.4 – 22.7 kg\\nAble to sit \\nupright alone\\nHEIGHT WEIGHT AGE\\n30 – 49 in.\\n76 – 124 cm\\n22 – 65 lb\\n10 – 29.5 kg\\n2+ years \\nrecommended  \\n(1 year min.)\\nFebruary 2024\\nFO24USG1FO24USG1\\\\n', additional_kwargs={}, response_metadata={}, name='Retrieval')]\n",
      "  - Next Node: N/A\n",
      "---\n",
      "--- Starting Router Node ---\n",
      "--- Router decision: Writer in 0.81s ---\n",
      "Output from node 'Router':\n",
      "  - Messages: [HumanMessage(content='What are the front facing height and weight limits for the car seat?', additional_kwargs={}, response_metadata={}), HumanMessage(content='Retrieval agent responding:', additional_kwargs={}, response_metadata={}), AIMessage(content='Retrieved context from documents:\\\\n\\\\n--- Document 1 ---\\\\n15\\n  When Using This Car Seat \\nin Forward-Facing Mode\\nP Child’s weight is between 22 and 65 lb \\n(10 and 29.5 kg).\\nP Child’s height is between 30 and 49 in. \\n(76 and 124 cm).\\nP Child is at least 1 year of age.\\nP Car seat is securely installed in a rear \\nvehicle seating position using either the \\nrigid LATCH Connectors and the Top \\nTether; the vehicle belt and Top Tether; or \\nthe rigid LATCH Connectors, the vehicle \\nbelt, and the Top Tether.\\nNOTE: If child weighs more than 35 lb \\n(15.9 kg), this car seat must be installed \\neither with the vehicle belt and the Top \\nTether or with the rigid LATCH lower \\nconnectors, the vehicle belt, and the \\nTop Tether. \\nP Car Seat is properly assembled with  \\nthe headrest properly secured. The  \\nRear-Facing Base and Anti-Rebound  \\nBar must be removed when using seat \\nForward-Facing.\\\\n\\\\n--- Document 2 ---\\\\non product labels and in this\\nmanual and in your vehicle\\nowner’s manual before installing\\nor using this car seat.\\n• Failure to properly install or use\\nthis car seat or follow these\\nwarnings and those on this car\\nseat’s labels can result in serious\\ninjury or death to the child\\nin a sharp turn, sudden stop or\\ncrash.\\nC01-0602-G1-US\\nFoonf Instruction Manual\\nThis car seat is designed for use either Rear-Facing or Forward-Facing by children who meet\\nall of the following requirements:\\nHEIGHT WEIGHT AGE\\n25 – 43 in.\\n64 – 110 cm\\n14–5 0l b\\n6.4 – 22.7 kg\\nAble to sit\\nupright alone\\nHEIGHT WEIGHT AGE\\n30 – 49 in.\\n76–1 24 cm\\n22 – 65 lb\\n10–2 9.5 kg\\n2+ years\\nrecommended\\n(1 year min.)\\nFebruary 2024\\nFO24USG1\\n39\\n38\\n36\\\\n\\\\n--- Document 3 ---\\\\nWARNING\\n• Read and understand all \\ninformation and instructions \\non product labels and in this \\nmanual and in your vehicle \\nowner’s manual before installing \\nor using this car seat.\\n• Failure to properly install or \\nuse this car seat or follow these \\nwarnings and those on this car \\nseat’s labels can result in serious \\ninjury or death to the child \\nin a sharp turn, sudden stop \\nor crash.\\nC01-0602-G1-US\\nFoonf Instruction Manual\\nThis car seat is designed for use either Rear-Facing or Forward-Facing by children who meet \\nall of the following requirements:\\nHEIGHT WEIGHT AGE\\n25 – 43 in.\\n64 – 110 cm\\n14 – 50 lb\\n6.4 – 22.7 kg\\nAble to sit \\nupright alone\\nHEIGHT WEIGHT AGE\\n30 – 49 in.\\n76 – 124 cm\\n22 – 65 lb\\n10 – 29.5 kg\\n2+ years \\nrecommended  \\n(1 year min.)\\nFebruary 2024\\nFO24USG1FO24USG1\\\\n', additional_kwargs={}, response_metadata={}, name='Retrieval')]\n",
      "  - Next Node: Writer\n",
      "---\n",
      "--- Starting Writer Node ---\n",
      "--- Finished Writer Node in 1.81s ---\n",
      "Output from node 'Writer':\n",
      "  - Messages: [HumanMessage(content='Writer agent responding:', additional_kwargs={}, response_metadata={}), AIMessage(content='The front-facing height and weight limits for the car seat are as follows:\\n\\n- **Weight**: 22 to 65 pounds (10 to 29.5 kg)\\n- **Height**: 30 to 49 inches (76 to 124 cm)\\n\\nAdditionally, the child must be at least 1 year of age to use the car seat in forward-facing mode.', additional_kwargs={}, response_metadata={}, name='Writer')]\n",
      "  - Next Node: N/A\n",
      "---\n"
     ]
    }
   ],
   "source": [
    "# Define your question\n",
    "question = \"What are the front facing height and weight limits for the car seat?\"\n",
    "\n",
    "# The input to the stream is a dictionary matching the AgentState\n",
    "inputs = {\"messages\": [HumanMessage(content=question)]}\n",
    "\n",
    "# Stream the results\n",
    "for output in app.stream(inputs):\n",
    "    for key, value in output.items():\n",
    "        # The key is the name of the node that just ran\n",
    "        print(f\"Output from node '{key}':\")\n",
    "        # The value is the state of the graph after the node ran\n",
    "        print(f\"  - Messages: {value['messages']}\")\n",
    "        print(f\"  - Next Node: {value.get('next', 'N/A')}\")\n",
    "    print(\"---\")"
   ]
  },
  {
   "cell_type": "code",
   "execution_count": null,
   "id": "96341008",
   "metadata": {},
   "outputs": [],
   "source": []
  },
  {
   "cell_type": "code",
   "execution_count": null,
   "id": "ce8f8bbe",
   "metadata": {},
   "outputs": [],
   "source": []
  }
 ],
 "metadata": {
  "kernelspec": {
   "display_name": "ManualAIze (uv)",
   "language": "python",
   "name": "manualaize"
  },
  "language_info": {
   "codemirror_mode": {
    "name": "ipython",
    "version": 3
   },
   "file_extension": ".py",
   "mimetype": "text/x-python",
   "name": "python",
   "nbconvert_exporter": "python",
   "pygments_lexer": "ipython3",
   "version": "3.13.5"
  }
 },
 "nbformat": 4,
 "nbformat_minor": 5
}
